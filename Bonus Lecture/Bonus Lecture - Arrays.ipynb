{
 "cells": [
  {
   "cell_type": "markdown",
   "metadata": {},
   "source": [
    "# Bonus Lecture - Arrays\n",
    "\n",
    "Now that we've got a handle on loops, I want to introduce a new variable type, or perhaps more accurately named data type, called an *Array*.\n",
    "\n",
    "And array, by definition, is an ordered series or arrangement. You already know the simplest form of an array, a 1-dimensional array, called a *list*. Arrays can have as many dimensions as we want, but for simplicity sake we're just going to extend them to 2-dimensions today. Here's a diagram to help demonstrate this concept:\n",
    "\n",
    "<img src = \"ArtAssetsBonus/arraysExplained.png\" width = 800>\n",
    "\n",
    "In python, there is no built in type for a 2-dimensional array. Instead, we quite literally use a list of lists. This is demonstrated in the picture above.\n",
    "\n",
    "### Indexing\n",
    "\n",
    "Just like with lists, pieces of arrays are accessed through their indices. However, each location in a 2-dimensional array now requires 2 indices to access, rather than one. The first index points to the list within our array list, and the second index points to the location within our list.\n",
    "\n",
    "Confused, me too. Words do not do a great job explaining what's going on, so its best to show you. Let's construct an array containing geography of our deserted island. Let's imagine our island is a 4x4 square, and all the outside edges are \"Beach\" and all of the inside parts \"Jungle\":\n",
    "\n",
    "<img src = \"ArtAssetsBonus/squareIsland.png\">\n",
    "<center>A real tropical paradise! Now in 8-bit</center>"
   ]
  },
  {
   "cell_type": "code",
   "execution_count": 6,
   "metadata": {},
   "outputs": [
    {
     "data": {
      "text/plain": [
       "[['beach', 'beach', 'beach', 'beach'],\n",
       " ['beach', 'jungle', 'jungle', 'beach'],\n",
       " ['beach', 'jungle', 'jungle', 'beach'],\n",
       " ['beach', 'beach', 'beach', 'beach']]"
      ]
     },
     "execution_count": 6,
     "metadata": {},
     "output_type": "execute_result"
    }
   ],
   "source": [
    "islandArray = [[\"beach\", \"beach\", \"beach\", \"beach\"],\n",
    "              [\"beach\", \"jungle\", \"jungle\", \"beach\"],\n",
    "              [\"beach\", \"jungle\", \"jungle\", \"beach\"],\n",
    "              [\"beach\", \"beach\", \"beach\", \"beach\"]]\n",
    "\n",
    "islandArray"
   ]
  },
  {
   "cell_type": "markdown",
   "metadata": {},
   "source": [
    "Now, let's say we want to acces the top right jungle square of our island:\n",
    "\n",
    "<img src = \"ArtAssetsBonus/jungleTile.png\">\n",
    "\n",
    "How would we do that? What kind of indexing would we need to print what's in that location? Remember, in code we start counting at 0!"
   ]
  },
  {
   "cell_type": "code",
   "execution_count": 7,
   "metadata": {},
   "outputs": [
    {
     "data": {
      "text/plain": [
       "[['beach', 'beach', 'beach', 'beach'],\n",
       " ['beach', 'jungle', 'jungle', 'beach'],\n",
       " ['beach', 'red', 'jungle', 'beach'],\n",
       " ['beach', 'beach', 'beach', 'beach']]"
      ]
     },
     "execution_count": 7,
     "metadata": {},
     "output_type": "execute_result"
    }
   ],
   "source": [
    "islandArray = [[\"beach\", \"beach\", \"beach\", \"beach\"],\n",
    "              [\"beach\", \"jungle\", \"jungle\", \"beach\"],\n",
    "              [\"beach\", \"red\", \"jungle\", \"beach\"],\n",
    "              [\"beach\", \"beach\", \"beach\", \"beach\"]]\n",
    "\n",
    "islandArray"
   ]
  },
  {
   "cell_type": "markdown",
   "metadata": {},
   "source": [
    "**Task:** With our understanding of loops, can you make a loop to print out each member of `islandArray`, and tell the user it's index?"
   ]
  },
  {
   "cell_type": "code",
   "execution_count": 8,
   "metadata": {},
   "outputs": [
    {
     "name": "stdout",
     "output_type": "stream",
     "text": [
      "There is beach at location (0, 0)\n",
      "There is beach at location (0, 1)\n",
      "There is beach at location (0, 2)\n",
      "There is beach at location (0, 3)\n",
      "There is beach at location (1, 0)\n",
      "There is jungle at location (1, 1)\n",
      "There is jungle at location (1, 2)\n",
      "There is beach at location (1, 3)\n",
      "There is beach at location (2, 0)\n",
      "There is red at location (2, 1)\n",
      "There is jungle at location (2, 2)\n",
      "There is beach at location (2, 3)\n",
      "There is beach at location (3, 0)\n",
      "There is beach at location (3, 1)\n",
      "There is beach at location (3, 2)\n",
      "There is beach at location (3, 3)\n"
     ]
    }
   ],
   "source": [
    "for n in range(len(islandArray)):\n",
    "    for m in range(len(islandArray[n])):\n",
    "        print(\"There is \"+islandArray[n][m]+\" at location \"+str((n,m)))"
   ]
  },
  {
   "cell_type": "markdown",
   "metadata": {},
   "source": [
    "Now this code above is very, VERY clunky... That is because Python has no built in type *array*. I have forced a 2-dimensional array here by creating a list of lists. Iterating through this is very awkward.\n",
    "\n",
    "Instead, it is better practice to create your internal lists first, and then store them in another list. Here's what I mean:"
   ]
  },
  {
   "cell_type": "code",
   "execution_count": 9,
   "metadata": {},
   "outputs": [
    {
     "data": {
      "text/plain": [
       "[['beach', 'beach', 'beach', 'beach'],\n",
       " ['beach', 'jungle', 'jungle', 'beach'],\n",
       " ['beach', 'red', 'jungle', 'beach'],\n",
       " ['beach', 'beach', 'beach', 'beach']]"
      ]
     },
     "execution_count": 9,
     "metadata": {},
     "output_type": "execute_result"
    }
   ],
   "source": [
    "columnOne = [\"beach\", \"beach\", \"beach\", \"beach\"]\n",
    "columnTwo = [\"beach\", \"jungle\", \"jungle\", \"beach\"]\n",
    "columnThree = [\"beach\", \"red\", \"jungle\", \"beach\"]\n",
    "columnFour = [\"beach\", \"beach\", \"beach\", \"beach\"]\n",
    "\n",
    "islandArray = [columnOne, columnTwo, columnThree, columnFour]\n",
    "\n",
    "islandArray"
   ]
  },
  {
   "cell_type": "markdown",
   "metadata": {},
   "source": [
    "Now iterating syntax is easier, because we have variables inside our islandArray rather than lists.\n",
    "\n",
    "I will also introduce a way to track your index in a for loop, without making a length counter like above. This uses the `enumerate()` function built in to Python. I won't explain it in details, but I'll show its use here. If you'd like to learn more about it, consult the Python documentation (built-in functions) linked at the bottom:"
   ]
  },
  {
   "cell_type": "code",
   "execution_count": 10,
   "metadata": {},
   "outputs": [
    {
     "name": "stdout",
     "output_type": "stream",
     "text": [
      "There is beach at location (0, 0)\n",
      "There is beach at location (0, 1)\n",
      "There is beach at location (0, 2)\n",
      "There is beach at location (0, 3)\n",
      "There is beach at location (1, 0)\n",
      "There is jungle at location (1, 1)\n",
      "There is jungle at location (1, 2)\n",
      "There is beach at location (1, 3)\n",
      "There is beach at location (2, 0)\n",
      "There is red at location (2, 1)\n",
      "There is jungle at location (2, 2)\n",
      "There is beach at location (2, 3)\n",
      "There is beach at location (3, 0)\n",
      "There is beach at location (3, 1)\n",
      "There is beach at location (3, 2)\n",
      "There is beach at location (3, 3)\n"
     ]
    }
   ],
   "source": [
    "for indexN, column in enumerate(islandArray):\n",
    "    for indexM, geography in enumerate(column):\n",
    "        print(\"There is \"+geography+\" at location \"+str((indexN, indexM)))"
   ]
  },
  {
   "cell_type": "markdown",
   "metadata": {},
   "source": [
    "`enumerate()` allowed me to track the index and the items in my list at the same time, making my code much simpler. It stored the index of my list in the first argument of my loop (`index1` and `index2`), while it stored what was in my list in the second argument (`horizontal` and `geography`).\n",
    "\n",
    "### Arrays Are a Concept\n",
    "\n",
    "Now you might be thinking, \"There's ocean, beach, and jungle on your outside edges, why'd you call them beach?\" That is because arrays are largely conceptual, and a convenient way to think about our information. We can easilly extend arrays to 3-dimensions, perhaps representing physical space, or even 4-dimensions and beyond representing whatever you need. These are more mathematically advanced concepts than I want to discuss in this class, so we'll stick with 2-dimensions for now.\n",
    "\n",
    "So let's improve upon our island map:\n",
    "\n",
    "<img src = \"ArtAssetsBonus/smallTileIsland.png\">\n",
    "\n",
    "Now our island has 64 squares, instead of 16, allowing for a much better description of what is where on our island.\n",
    "\n",
    "**Task:** Make a new array storing the locations on our island like before using the 64 square picture above. You might want to use loops to make your job easier."
   ]
  },
  {
   "cell_type": "code",
   "execution_count": 12,
   "metadata": {},
   "outputs": [
    {
     "data": {
      "text/plain": [
       "[['beach', 'beach', 'beach', 'beach', 'beach', 'beach', 'beach', 'beach'],\n",
       " ['beach',\n",
       "  'jungle',\n",
       "  'jungle',\n",
       "  'jungle',\n",
       "  'jungle',\n",
       "  'jungle',\n",
       "  'jungle',\n",
       "  'beach'],\n",
       " ['beach',\n",
       "  'jungle',\n",
       "  'jungle',\n",
       "  'jungle',\n",
       "  'jungle',\n",
       "  'jungle',\n",
       "  'jungle',\n",
       "  'beach'],\n",
       " ['beach',\n",
       "  'jungle',\n",
       "  'jungle',\n",
       "  'jungle',\n",
       "  'jungle',\n",
       "  'jungle',\n",
       "  'jungle',\n",
       "  'beach'],\n",
       " ['beach',\n",
       "  'jungle',\n",
       "  'jungle',\n",
       "  'jungle',\n",
       "  'jungle',\n",
       "  'jungle',\n",
       "  'jungle',\n",
       "  'beach'],\n",
       " ['beach',\n",
       "  'jungle',\n",
       "  'jungle',\n",
       "  'jungle',\n",
       "  'jungle',\n",
       "  'jungle',\n",
       "  'jungle',\n",
       "  'beach'],\n",
       " ['beach',\n",
       "  'jungle',\n",
       "  'jungle',\n",
       "  'jungle',\n",
       "  'jungle',\n",
       "  'jungle',\n",
       "  'jungle',\n",
       "  'beach'],\n",
       " ['beach', 'beach', 'beach', 'beach', 'beach', 'beach', 'beach', 'beach']]"
      ]
     },
     "execution_count": 12,
     "metadata": {},
     "output_type": "execute_result"
    }
   ],
   "source": [
    "#Create your islandArray here\n",
    "\n",
    "islandArray = []\n",
    "\n",
    "for n in range(8):\n",
    "    islandArray.append([])\n",
    "    for m in range(8):\n",
    "        if n == 0 or n == 7 or m == 0 or m == 7:\n",
    "            islandArray[n].append(\"beach\")\n",
    "        else:\n",
    "            islandArray[n].append(\"jungle\")\n",
    "            \n",
    "islandArray"
   ]
  },
  {
   "cell_type": "markdown",
   "metadata": {},
   "source": [
    "# Helpful Links\n",
    "\n",
    "[Link to built in Python Functions](https://docs.python.org/3/library/functions.html \"Built-in Functions\")<br/>\n",
    "[Link to more data structure methods and explanations](https://docs.python.org/3/tutorial/datastructures.html \"Python Datastructures\")<br/>\n",
    "[Link to a great article about analyzing games](https://gamedesignconcepts.wordpress.com/2009/07/06/level-3-formal-elements-of-games/ \"Game Analysis Help\")<br/>\n",
    "[The Game Analysis Form](https://docs.google.com/document/d/1orjKWorOqr6JKB45zACrEcz6HZRPcJCLNJX3vr9_WUU/edit?usp=sharing \"Its also available on our drive\")<br/>"
   ]
  }
 ],
 "metadata": {
  "kernelspec": {
   "display_name": "Python 3",
   "language": "python",
   "name": "python3"
  },
  "language_info": {
   "codemirror_mode": {
    "name": "ipython",
    "version": 3
   },
   "file_extension": ".py",
   "mimetype": "text/x-python",
   "name": "python",
   "nbconvert_exporter": "python",
   "pygments_lexer": "ipython3",
   "version": "3.7.3"
  }
 },
 "nbformat": 4,
 "nbformat_minor": 2
}