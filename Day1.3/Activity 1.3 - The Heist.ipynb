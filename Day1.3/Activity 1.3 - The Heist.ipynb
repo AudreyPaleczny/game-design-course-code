{
 "cells": [
  {
   "cell_type": "markdown",
   "source": [
    "# Activity 1.3 - The Heist\n",
    "\n",
    "Welcome to the Heist!! You are attempting to hack into a vault containing a powerful secret... You will be given a series of tasks to complete using the coding principles we've gone over in class. Successful completion of each task will yield a character of the vault's access key. There are 4 characters to unlock, and they will not be given to you in the correct order."
   ],
   "metadata": {}
  },
  {
   "cell_type": "markdown",
   "source": [
    "<img src=\"ArtAssets3/hack.jpg\">"
   ],
   "metadata": {}
  },
  {
   "cell_type": "markdown",
   "source": [
    "Once you have the access key, you must enter it into the vault by using the following command:\n",
    "\n",
    "`heist.access(password)`\n",
    "\n",
    "Where you replace the word password in the parenthesis with your attempt. In fact, we will be passing variables into methods like this multiple times throughout the challenge.\n",
    "\n",
    "Will you be the first group to finish and unlock the vault's secret???"
   ],
   "metadata": {}
  },
  {
   "cell_type": "markdown",
   "source": [
    "## Getting Started\n",
    "\n",
    "**DO NOT OPEN ANY OF THE .py FILES!**\n",
    "\n",
    "I've organized this page for you with different blocks for each task. One is a place for you to take notes, and the other is a place to run your code.\n",
    "\n",
    "I've given you the code to gain access to the system. Run the line below to hack in and get started."
   ],
   "metadata": {}
  },
  {
   "cell_type": "code",
   "execution_count": 1,
   "source": [
    "import _src.heist as heist\n",
    "heist.start()"
   ],
   "outputs": [
    {
     "output_type": "stream",
     "name": "stdout",
     "text": [
      "\n",
      "Welcome to the Heist!! You are attempting to hack into a vault containing a powerful secret...\n",
      "You will be given a series of tasks to complete using the coding principles we've gone over in class.\n",
      "\n",
      "Successful completion of each task will yield a character of the vault's access key. They are not given in order.\n",
      "Once you have collected all 4 characters, you must find the correct order of them to access the vault and complete the hack.\n",
      "\n",
      "For initializing the first system, you will be rewarded a character.\n",
      ".\n",
      "\n",
      ".\n",
      "\n",
      ".\n",
      "\n",
      "The first character is &\n",
      "\n",
      "To access the next task, enter the following command: heist.loops.start()\n"
     ]
    }
   ],
   "metadata": {}
  },
  {
   "cell_type": "markdown",
   "source": [
    "### Task 2:\n",
    "\n",
    "**Notes:**"
   ],
   "metadata": {}
  },
  {
   "cell_type": "code",
   "execution_count": 3,
   "source": [
    "# First character I got was &\n",
    "# Second character I got was 5\n",
    "# Third character I got was \n",
    "\n",
    "heist.loops.start()"
   ],
   "outputs": [
    {
     "output_type": "stream",
     "name": "stdout",
     "text": [
      "This firewall can be surpassed by brute force. To do so, you must call the following function 1001 times:\n",
      "\n",
      "hack()\n",
      "\n",
      "However, you must figure out the proper syntax for calling this function. Good Luck!\n"
     ]
    }
   ],
   "metadata": {}
  },
  {
   "cell_type": "code",
   "execution_count": 4,
   "source": [
    "for i in range(1001):\n",
    "    heist.loops.hack()"
   ],
   "outputs": [
    {
     "output_type": "stream",
     "name": "stdout",
     "text": [
      "Congratulations! You've successfully hacked once. Now you need to hack 1000 more times...\n",
      "\n",
      "That's 100 hacks... 10% complete\n",
      "\n",
      "20.0% complete...\n",
      "30.0% complete...\n",
      "40.0% complete...\n",
      "50.0% complete...\n",
      "60.0% complete...\n",
      "70.0% complete...\n",
      "80.0% complete...\n",
      "90.0% complete...\n",
      "Task completed. The next characer: 5\n",
      "For your next task, run heist.numberPatch.start()\n"
     ]
    }
   ],
   "metadata": {}
  },
  {
   "cell_type": "markdown",
   "source": [
    "### Task 3: \n",
    "\n",
    "**Notes:**"
   ],
   "metadata": {}
  },
  {
   "cell_type": "code",
   "execution_count": null,
   "source": [
    "heist.numberPatch.start()"
   ],
   "outputs": [],
   "metadata": {}
  },
  {
   "cell_type": "markdown",
   "source": [
    "### Task 4:\n",
    "\n",
    "**Notes:**"
   ],
   "metadata": {}
  },
  {
   "cell_type": "code",
   "execution_count": null,
   "source": [],
   "outputs": [],
   "metadata": {}
  },
  {
   "cell_type": "code",
   "execution_count": null,
   "source": [],
   "outputs": [],
   "metadata": {}
  },
  {
   "cell_type": "markdown",
   "source": [
    "### Enter Acess Key:\n",
    "\n",
    "**Notes:**"
   ],
   "metadata": {}
  },
  {
   "cell_type": "code",
   "execution_count": null,
   "source": [],
   "outputs": [],
   "metadata": {}
  },
  {
   "cell_type": "code",
   "execution_count": null,
   "source": [],
   "outputs": [],
   "metadata": {}
  },
  {
   "cell_type": "code",
   "execution_count": null,
   "source": [],
   "outputs": [],
   "metadata": {}
  }
 ],
 "metadata": {
  "kernelspec": {
   "name": "python3",
   "display_name": "Python 3.9.6 64-bit"
  },
  "language_info": {
   "codemirror_mode": {
    "name": "ipython",
    "version": 3
   },
   "file_extension": ".py",
   "mimetype": "text/x-python",
   "name": "python",
   "nbconvert_exporter": "python",
   "pygments_lexer": "ipython3",
   "version": "3.9.6"
  },
  "interpreter": {
   "hash": "aee8b7b246df8f9039afb4144a1f6fd8d2ca17a180786b69acc140d282b71a49"
  }
 },
 "nbformat": 4,
 "nbformat_minor": 2
}