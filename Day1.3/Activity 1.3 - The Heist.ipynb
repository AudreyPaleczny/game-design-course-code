{
 "cells": [
  {
   "cell_type": "markdown",
   "source": [
    "# Activity 1.3 - The Heist\n",
    "\n",
    "Welcome to the Heist!! You are attempting to hack into a vault containing a powerful secret... You will be given a series of tasks to complete using the coding principles we've gone over in class. Successful completion of each task will yield a character of the vault's access key. There are 4 characters to unlock, and they will not be given to you in the correct order."
   ],
   "metadata": {}
  },
  {
   "cell_type": "markdown",
   "source": [
    "<img src=\"ArtAssets3/hack.jpg\">"
   ],
   "metadata": {}
  },
  {
   "cell_type": "markdown",
   "source": [
    "Once you have the access key, you must enter it into the vault by using the following command:\n",
    "\n",
    "`heist.access(password)`\n",
    "\n",
    "Where you replace the word password in the parenthesis with your attempt. In fact, we will be passing variables into methods like this multiple times throughout the challenge.\n",
    "\n",
    "Will you be the first group to finish and unlock the vault's secret???"
   ],
   "metadata": {}
  },
  {
   "cell_type": "markdown",
   "source": [
    "## Getting Started\n",
    "\n",
    "**DO NOT OPEN ANY OF THE .py FILES!**\n",
    "\n",
    "I've organized this page for you with different blocks for each task. One is a place for you to take notes, and the other is a place to run your code.\n",
    "\n",
    "I've given you the code to gain access to the system. Run the line below to hack in and get started."
   ],
   "metadata": {}
  },
  {
   "cell_type": "code",
   "execution_count": 1,
   "source": [
    "import _src.heist as heist\n",
    "heist.start()"
   ],
   "outputs": [
    {
     "output_type": "stream",
     "name": "stdout",
     "text": [
      "\n",
      "Welcome to the Heist!! You are attempting to hack into a vault containing a powerful secret...\n",
      "You will be given a series of tasks to complete using the coding principles we've gone over in class.\n",
      "\n",
      "Successful completion of each task will yield a character of the vault's access key. They are not given in order.\n",
      "Once you have collected all 4 characters, you must find the correct order of them to access the vault and complete the hack.\n",
      "\n",
      "For initializing the first system, you will be rewarded a character.\n",
      ".\n",
      "\n",
      ".\n",
      "\n",
      ".\n",
      "\n",
      "The first character is &\n",
      "\n",
      "To access the next task, enter the following command: heist.loops.start()\n"
     ]
    }
   ],
   "metadata": {}
  },
  {
   "cell_type": "markdown",
   "source": [
    "### Task 2:\n",
    "\n",
    "**Notes:**"
   ],
   "metadata": {}
  },
  {
   "cell_type": "code",
   "execution_count": 3,
   "source": [
    "# First character I got was &\n",
    "# Second character I got was 5\n",
    "# Third character I got was Y (got by answering index 2)\n",
    "# Last character I got was 7\n",
    "\n",
    "heist.loops.start()"
   ],
   "outputs": [
    {
     "output_type": "stream",
     "name": "stdout",
     "text": [
      "This firewall can be surpassed by brute force. To do so, you must call the following function 1001 times:\n",
      "\n",
      "hack()\n",
      "\n",
      "However, you must figure out the proper syntax for calling this function. Good Luck!\n"
     ]
    }
   ],
   "metadata": {}
  },
  {
   "cell_type": "code",
   "execution_count": 4,
   "source": [
    "for i in range(1001):\n",
    "    heist.loops.hack()"
   ],
   "outputs": [
    {
     "output_type": "stream",
     "name": "stdout",
     "text": [
      "Congratulations! You've successfully hacked once. Now you need to hack 1000 more times...\n",
      "\n",
      "That's 100 hacks... 10% complete\n",
      "\n",
      "20.0% complete...\n",
      "30.0% complete...\n",
      "40.0% complete...\n",
      "50.0% complete...\n",
      "60.0% complete...\n",
      "70.0% complete...\n",
      "80.0% complete...\n",
      "90.0% complete...\n",
      "Task completed. The next characer: 5\n",
      "For your next task, run heist.numberPatch.start()\n"
     ]
    }
   ],
   "metadata": {}
  },
  {
   "cell_type": "markdown",
   "source": [
    "### Task 3: \n",
    "\n",
    "**Notes:**"
   ],
   "metadata": {}
  },
  {
   "cell_type": "code",
   "execution_count": 6,
   "source": [
    "heist.numberPatch.start()"
   ],
   "outputs": [
    {
     "output_type": "stream",
     "name": "stdout",
     "text": [
      "This task is a bit more tricky... We have 8 numbers in a list that should all be the same, but one of them is bigger than the others.\n",
      "You must determine which of these numbers is the biggest, and you can only do so by comparing the sums of other numbers a maximium of 2 times before the system resets.\n",
      "If you select the wrong number, the system will lock you out for 1 minute before reseting to try again.\n",
      "To compare sums, you must enter the indices of the numbers in the list you wish to add for the first sum, then again for the second. You may add any number of the numbers together.\n",
      "\n",
      "\n",
      "The Indices: [0, 1, 2, 3, 4, 5, 6, 7]\n",
      "Input your two sets (lists) of number indices to be weighed, one at a time. They should look like this - XXXX - and may be up to 8 long. The X's represent the indices of the number in the list of numbers.\n",
      "You input the first set of number indices incorrectly. The input should look like this - XXXX - and of any length up to 8\n",
      "\n",
      "The Indices: [0, 1, 2, 3, 4, 5, 6, 7]\n",
      "Input your two sets (lists) of number indices to be weighed, one at a time. They should look like this - XXXX - and may be up to 8 long. The X's represent the indices of the number in the list of numbers.\n",
      "You input the first set of number indices incorrectly. The input should look like this - XXXX - and of any length up to 8\n",
      "\n",
      "The Indices: [0, 1, 2, 3, 4, 5, 6, 7]\n",
      "Input your two sets (lists) of number indices to be weighed, one at a time. They should look like this - XXXX - and may be up to 8 long. The X's represent the indices of the number in the list of numbers.\n",
      "You input the first set of number indices incorrectly. The input should look like this - XXXX - and of any length up to 8\n",
      "\n",
      "The Indices: [0, 1, 2, 3, 4, 5, 6, 7]\n",
      "Input your two sets (lists) of number indices to be weighed, one at a time. They should look like this - XXXX - and may be up to 8 long. The X's represent the indices of the number in the list of numbers.\n",
      "You input the first set of number indices incorrectly. The input should look like this - XXXX - and of any length up to 8\n",
      "\n",
      "The Indices: [0, 1, 2, 3, 4, 5, 6, 7]\n",
      "Input your two sets (lists) of number indices to be weighed, one at a time. They should look like this - XXXX - and may be up to 8 long. The X's represent the indices of the number in the list of numbers.\n",
      "The first set of numbers, ['0', '1'] has a smaller sum than the second set of numbers, ['1', '2']\n",
      "\n",
      "The Indices: [0, 1, 2, 3, 4, 5, 6, 7]\n",
      "Input your two sets (lists) of number indices to be weighed, one at a time. They should look like this - XXXX - and may be up to 8 long. The X's represent the indices of the number in the list of numbers.\n",
      "The two sets, ['1', '2'] and ['2', '3'] are of equal sum\n",
      "\n",
      "Repairing list....\n",
      "Repair successful, access granted...\n",
      "The next character is Y\n",
      "To begin the next challenge, input heist.fuseBypass.start()\n"
     ]
    }
   ],
   "metadata": {}
  },
  {
   "cell_type": "markdown",
   "source": [
    "### Task 4:\n",
    "\n",
    "**Notes:**"
   ],
   "metadata": {}
  },
  {
   "cell_type": "code",
   "execution_count": 8,
   "source": [
    "heist.fuseBypass.start()"
   ],
   "outputs": [
    {
     "output_type": "stream",
     "name": "stdout",
     "text": [
      "To unlock the next character in the password, we'll need to bypass a fuse in the computer system.\n",
      "The fuses are numbered 0-999. To test a fuse, you must enter which fuse to test in the parenthesis of heist.fuseBypass.test() and run.\n",
      "If you test a fuse higher than the target, the fuse will blow and the test will return False. If you test a fuse lower than the target, the test will return True\n",
      "You only get 2 blown fuses before you have to commit to the bypass.\n",
      "\n",
      "To bypass the target, run heist.fuseBypass.bypass()\n",
      "If you guess wrong, the system will reset, and the bypass fuse will change.\n",
      "\n",
      "Use what you know of python to write some code to help you test as many fuses as possible quickly. If you take too many attempts, \n",
      "the code will tell you whether or not you got the right fuse, but will make you try again to guess faster\n",
      "Good Luck!\n",
      "\n"
     ]
    }
   ],
   "metadata": {}
  },
  {
   "cell_type": "code",
   "execution_count": 12,
   "source": [
    "keepGoing = True\n",
    "index = -1 #(will actually start at 1 but this makes the loop easier to code)\n",
    "\n",
    "# test every other fuse from the beginning because after 2 blown fuses you have to input the guess\n",
    "while keepGoing:\n",
    "    index += 2\n",
    "    keepGoing = heist.fuseBypass.test(index)\n",
    "\n",
    "# it blew up\n",
    "safe = heist.fuseBypass.test(index-1)\n",
    "if safe == False:\n",
    "    print(\"answer: \" + str(index - 2))\n",
    "else: print(\"answer: \" + str(index - 1))\n",
    "\n",
    "heist.fuseBypass.bypass()\n"
   ],
   "outputs": [
    {
     "output_type": "stream",
     "name": "stdout",
     "text": [
      "Nothing happened at 1.\n",
      "\n",
      "Nothing happened at 3.\n",
      "\n",
      "Nothing happened at 5.\n",
      "\n",
      "Nothing happened at 7.\n",
      "\n",
      "Nothing happened at 9.\n",
      "\n",
      "Nothing happened at 11.\n",
      "\n",
      "Nothing happened at 13.\n",
      "\n",
      "Nothing happened at 15.\n",
      "\n",
      "Nothing happened at 17.\n",
      "\n",
      "Nothing happened at 19.\n",
      "\n",
      "Nothing happened at 21.\n",
      "\n",
      "Nothing happened at 23.\n",
      "\n",
      "Nothing happened at 25.\n",
      "\n",
      "Nothing happened at 27.\n",
      "\n",
      "Nothing happened at 29.\n",
      "\n",
      "Nothing happened at 31.\n",
      "\n",
      "Nothing happened at 33.\n",
      "\n",
      "Nothing happened at 35.\n",
      "\n",
      "Nothing happened at 37.\n",
      "\n",
      "Nothing happened at 39.\n",
      "\n",
      "Nothing happened at 41.\n",
      "\n",
      "Nothing happened at 43.\n",
      "\n",
      "Nothing happened at 45.\n",
      "\n",
      "Nothing happened at 47.\n",
      "\n",
      "Nothing happened at 49.\n",
      "\n",
      "Nothing happened at 51.\n",
      "\n",
      "Nothing happened at 53.\n",
      "\n",
      "Nothing happened at 55.\n",
      "\n",
      "Nothing happened at 57.\n",
      "\n",
      "Nothing happened at 59.\n",
      "\n",
      "Nothing happened at 61.\n",
      "\n",
      "Nothing happened at 63.\n",
      "\n",
      "Nothing happened at 65.\n",
      "\n",
      "Nothing happened at 67.\n",
      "\n",
      "Nothing happened at 69.\n",
      "\n",
      "Nothing happened at 71.\n",
      "\n",
      "Nothing happened at 73.\n",
      "\n",
      "Nothing happened at 75.\n",
      "\n",
      "Nothing happened at 77.\n",
      "\n",
      "Nothing happened at 79.\n",
      "\n",
      "Nothing happened at 81.\n",
      "\n",
      "Nothing happened at 83.\n",
      "\n",
      "Nothing happened at 85.\n",
      "\n",
      "Nothing happened at 87.\n",
      "\n",
      "You blew fuse 89\n",
      "\n",
      "Nothing happened at 88.\n",
      "\n",
      "answer: 88\n",
      "Correct fuse bypass detected....\n",
      "\n",
      "Authorization verified. Bypassing...\n",
      "\n",
      "The next character is 7\n",
      "Now, you must unscramble the characters to find the passcode. Enter the password into the parenthesis in heist.access(). If you guess the password correctly, it will return 'True', otherwise it will return 'False'.\n",
      "You may have to write some code to guess the correct combination\n"
     ]
    }
   ],
   "metadata": {}
  },
  {
   "cell_type": "markdown",
   "source": [
    "### Enter Acess Key:\n",
    "\n",
    "**Notes:**"
   ],
   "metadata": {}
  },
  {
   "cell_type": "code",
   "execution_count": 16,
   "source": [
    "# First character I got was &\n",
    "# Second character I got was 5\n",
    "# Third character I got was Y (got by answering index 2)\n",
    "# Last character I got was 7\n",
    "\n",
    "chars = ['&', '5', 'Y', '7', 'G', 'L', '8', 'T']\n",
    "# should be a way to only pick from what hasn't been chosen already but idk how to do that yet\n",
    "for c1 in chars:\n",
    "    for c2 in chars:\n",
    "        for c3 in chars:\n",
    "            for c4 in chars:\n",
    "                heist.access(c1+c2+c3+c4)\n",
    "\n",
    "#was originally missing the GL8T characters I needed to add in \n",
    "#looked at the solution and understand how to do this better now (answer ended up being G78T&5LY)\n",
    "\n",
    "# could also figure out all the possible solutions (only 24 solutions possible) and test all of them"
   ],
   "outputs": [
    {
     "output_type": "stream",
     "name": "stdout",
     "text": [
      "Hacking attempt detected... Password is key plus 4 more characters: GL8T... These are not in order. Try again with all 8 characters...\n"
     ]
    }
   ],
   "metadata": {}
  },
  {
   "cell_type": "code",
   "execution_count": null,
   "source": [],
   "outputs": [],
   "metadata": {}
  },
  {
   "cell_type": "code",
   "execution_count": null,
   "source": [],
   "outputs": [],
   "metadata": {}
  }
 ],
 "metadata": {
  "kernelspec": {
   "name": "python3",
   "display_name": "Python 3.9.6 64-bit"
  },
  "language_info": {
   "codemirror_mode": {
    "name": "ipython",
    "version": 3
   },
   "file_extension": ".py",
   "mimetype": "text/x-python",
   "name": "python",
   "nbconvert_exporter": "python",
   "pygments_lexer": "ipython3",
   "version": "3.9.6"
  },
  "interpreter": {
   "hash": "aee8b7b246df8f9039afb4144a1f6fd8d2ca17a180786b69acc140d282b71a49"
  }
 },
 "nbformat": 4,
 "nbformat_minor": 2
}