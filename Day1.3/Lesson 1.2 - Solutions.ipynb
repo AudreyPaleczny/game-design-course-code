{
 "cells": [
  {
   "cell_type": "markdown",
   "metadata": {},
   "source": [
    "# Lesson 1.2 - Control Structures: Conditional Statements\n",
    "\n",
    "Last lesson, we worked with variables and operations to manipulate them, and yesterday you put together some massive combos to inflict upon our poor Practice Dummy. However, to test your combos, you had to do what I'll call the Brute Force method, trying things over and over and over again until you get the results that you want. This required an astounding amount of coding to get simple results (though you were likely only executing one line at a time). But there is an easier way. \n",
    "\n",
    "## Introducing Control Structures:\n",
    "\n",
    "Control Structures allow you to perform complex operations with relative ease. This is the \"thinking\" part of the program. We will employ the operations and variables we learned yesterday, along with the Boolean logic operators you learned about in Activity 1 to manipulate these control structures to give the desired outcome. \n",
    "\n",
    "Today, we will start with the `if :` operator. It does exactly what it sounds like it does. Before I explain anymore, let me show you an example."
   ]
  },
  {
   "cell_type": "code",
   "execution_count": 2,
   "metadata": {},
   "outputs": [
    {
     "name": "stdout",
     "output_type": "stream",
     "text": [
      "You have leveled up!\n",
      "Your current level is 2\n"
     ]
    }
   ],
   "source": [
    "experience = 5000\n",
    "level = 1\n",
    "\n",
    "if experience > 1000:\n",
    "    print(\"You have leveled up!\")\n",
    "    level += 1\n",
    "\n",
    "print(\"Your current level is \"+str(level))"
   ]
  },
  {
   "cell_type": "markdown",
   "metadata": {},
   "source": [
    "Now change `experience` to a few different numbers and see what happens."
   ]
  },
  {
   "cell_type": "markdown",
   "metadata": {},
   "source": [
    "## If statement explained\n",
    "\n",
    "The first part of the if control structure is the `if :` statement itself. It outlines a condition that must be met in order to execute the code within it. Otherwise, the program ignores that block of code and moves on.\n",
    "\n",
    "`if (variable comparison condition):`\n",
    "\n",
    "In the above example, the *variable* was **experience**, the *comparison* statement was **greater than or equal to** or **>=**, and the *condition* was **1000**. Note the colon **:** at the end is a necessary component to terminate the `if :`statement.\n",
    "\n",
    "**Question:** What kind of output is the `variable comparison condition` give?"
   ]
  },
  {
   "cell_type": "markdown",
   "metadata": {},
   "source": [
    "Next comes the code to execute if the comparison statement is `True`. This can be absolutely anything you want it to be. In our example, we are leveling up.\n",
    "\n",
    "Notice that it is **indented** under the `if :` statement. This is necessary to show what code is contained in our control statement, and which code is outside.\n",
    "\n",
    "**Another Example:** Let's create a statement that compares variable playerOneLevel to playerTwoLevel. If playerOneLevel is bigger than playerTwoLevel, print \"Player One is a higher level than Player Two\""
   ]
  },
  {
   "cell_type": "code",
   "execution_count": 4,
   "metadata": {},
   "outputs": [
    {
     "name": "stdout",
     "output_type": "stream",
     "text": [
      "Player One is a higher level than Player Two\n"
     ]
    }
   ],
   "source": [
    "playerOneLevel = 3\n",
    "playerTwoLevel = 2\n",
    "\n",
    "if playerOneLevel > playerTwoLevel:\n",
    "    print(\"Player One is a higher level than Player Two\")"
   ]
  },
  {
   "cell_type": "markdown",
   "metadata": {},
   "source": [
    "**Task:** Let's try something a little more complicated. Can you figure out how to print \"Player One is a higher level than Player Two\" if indeed they are, and print \"Player One is not a higher level than Player Two\"? *Hint: you may need more than one if statement*\n",
    "\n",
    "I've included a small amount of code below to choose Player One and Two's levels for you, so you'll need to include some way to check your logic to make sure you've done this correctly."
   ]
  },
  {
   "cell_type": "code",
   "execution_count": 5,
   "metadata": {},
   "outputs": [
    {
     "name": "stdout",
     "output_type": "stream",
     "text": [
      "Player One is Level 1\n",
      "Player Two is Level 0\n",
      "Player One is a higher level than player Two\n"
     ]
    }
   ],
   "source": [
    "import numpy as np\n",
    "\n",
    "playerOneLevel = np.random.randint(0,3)\n",
    "playerTwoLevel = np.random.randint(0,3)\n",
    "\n",
    "print(\"Player One is Level \"+str(playerOneLevel))\n",
    "print(\"Player Two is Level \"+str(playerTwoLevel))\n",
    "\n",
    "#Your if statement goes here\n",
    "if playerOneLevel > playerTwoLevel:\n",
    "    print(\"Player One is a higher level than player Two\")\n",
    "\n",
    "if not (playerOneLevel > playerTwoLevel):\n",
    "    print(\"Player One is not a higher level than player Two\")"
   ]
  },
  {
   "cell_type": "markdown",
   "metadata": {},
   "source": [
    "**Bonus:** Can you figure out what the code I gave you is doing? How?"
   ]
  },
  {
   "cell_type": "markdown",
   "metadata": {},
   "source": [
    "## The else statement\n",
    "\n",
    "What you've done above has a simplified version. The `else:` statement let's you execute code within the conditional statement that triggers if the condition is NOT met. It requires the original `if :` statement to work. You cannot have an `else:` without and `if :`. \n",
    "\n",
    "Let's look at an example. We'll use an `if : else:` statement to look at our `level` based on our `experience` from the first example:"
   ]
  },
  {
   "cell_type": "code",
   "execution_count": 6,
   "metadata": {},
   "outputs": [
    {
     "name": "stdout",
     "output_type": "stream",
     "text": [
      "Your level is 1\n"
     ]
    }
   ],
   "source": [
    "experience = 500\n",
    "\n",
    "if experience >= 1000:\n",
    "    level = 2\n",
    "else:\n",
    "    level = 1\n",
    "    \n",
    "print(\"Your level is \"+str(level))"
   ]
  },
  {
   "cell_type": "markdown",
   "metadata": {},
   "source": [
    "*Note:* Just like with `if :`, the `else:` statment needs a colon, and the code contained inside it must be indented.\n",
    "\n",
    "Notice that this time, I did not have to set my level before the `if :` statement. Why not? This is a more efficient way to write this code, because I am only declaring my level variable once, instead of declaring it before and inside the if. But I've written it down twice, how come its only getting declared once?\n",
    "\n",
    "**Another Example:** Let's go back to our previous task, comparing player levels. Create a statement that does the same thing as before, comparing Player One's level to Player Two's level, but use only and `if : else:` statement."
   ]
  },
  {
   "cell_type": "code",
   "execution_count": 7,
   "metadata": {},
   "outputs": [
    {
     "name": "stdout",
     "output_type": "stream",
     "text": [
      "Player One is Level 0\n",
      "Player Two is Level 2\n",
      "Player One is not a higher level than player Two\n"
     ]
    }
   ],
   "source": [
    "import numpy as np\n",
    "\n",
    "playerOneLevel = np.random.randint(0,3)\n",
    "playerTwoLevel = np.random.randint(0,3)\n",
    "\n",
    "print(\"Player One is Level \"+str(playerOneLevel))\n",
    "print(\"Player Two is Level \"+str(playerTwoLevel))\n",
    "\n",
    "#Your if statement goes here\n",
    "if playerOneLevel > playerTwoLevel:\n",
    "    print(\"Player One is a higher level than player Two\")\n",
    "else:\n",
    "    print(\"Player One is not a higher level than player Two\")"
   ]
  },
  {
   "cell_type": "markdown",
   "metadata": {},
   "source": [
    "Now we only need one *if* statement to perform the same function that required two statements before.\n",
    "\n",
    "**Task:** What if Player One and Player Two are the same level? Can we separate our output to tell us that as well? Now there are 3 possible outputs:\n",
    "\n",
    "1. \"Player One is a higher level than Player Two\"\n",
    "2. \"Player One is the same level as Player Two\"\n",
    "3. \"Player One is a lower level than Player Two\"\n",
    "\n",
    "*Hint: You may need more than one if: else: statement. You can embed ifs inside of other ifs*"
   ]
  },
  {
   "cell_type": "code",
   "execution_count": 8,
   "metadata": {},
   "outputs": [
    {
     "name": "stdout",
     "output_type": "stream",
     "text": [
      "Player One is Level 0\n",
      "Player Two is Level 1\n",
      "Player One is a lower level than player two\n"
     ]
    }
   ],
   "source": [
    "import numpy as np\n",
    "\n",
    "playerOneLevel = np.random.randint(0,3)\n",
    "playerTwoLevel = np.random.randint(0,3)\n",
    "\n",
    "print(\"Player One is Level \"+str(playerOneLevel))\n",
    "print(\"Player Two is Level \"+str(playerTwoLevel))\n",
    "\n",
    "#The if/else statement(s) goes here\n",
    "if playerOneLevel > playerTwoLevel:\n",
    "    print(\"Player One is a higher level than player Two\")\n",
    "else:\n",
    "    if playerOneLevel == playerTwoLevel:\n",
    "        print(\"Player One is the same level as player Two\")\n",
    "    else:\n",
    "        print(\"Player One is a lower level than player two\")"
   ]
  },
  {
   "cell_type": "markdown",
   "metadata": {},
   "source": [
    "## elif statement\n",
    "\n",
    "Once again, there is an easier way to do what we just did above. Instead of putting `if :` statements inside of `if :` statements, we can use the `elif :` statement, short for `else: if :`. This is a mashup of what you've just done. It let's us add new conditions to our original `if :` statement so we can check multiple conditions within one control structure. Let's look at our example about leveling up again:"
   ]
  },
  {
   "cell_type": "code",
   "execution_count": 9,
   "metadata": {},
   "outputs": [
    {
     "name": "stdout",
     "output_type": "stream",
     "text": [
      "your level is 1\n"
     ]
    }
   ],
   "source": [
    "experience = 500\n",
    "\n",
    "if experience < 1000:\n",
    "    level = 1\n",
    "elif experience < 5000:\n",
    "    level = 2\n",
    "else:\n",
    "    level = 3\n",
    "    \n",
    "print(\"your level is \"+str(level))"
   ]
  },
  {
   "cell_type": "markdown",
   "metadata": {},
   "source": [
    "Change the `experience` variable a few more times to see what happens. Is this what you expected? In this example, we are checking every level within one `if : elif : else:` statement.\n",
    "\n",
    "**Another Example:** Let's put it all together to compare our two Players again. Again, we have the same 3 possible outcomes from the previous task, but this time use a single `if : elif : else:` statement."
   ]
  },
  {
   "cell_type": "code",
   "execution_count": 12,
   "metadata": {},
   "outputs": [
    {
     "name": "stdout",
     "output_type": "stream",
     "text": [
      "Player One is Level 2\n",
      "Player Two is Level 2\n",
      "Player One is the same level as player Two\n"
     ]
    }
   ],
   "source": [
    "import numpy as np\n",
    "\n",
    "playerOneLevel = np.random.randint(0,3)\n",
    "playerTwoLevel = np.random.randint(0,3)\n",
    "\n",
    "print(\"Player One is Level \"+str(playerOneLevel))\n",
    "print(\"Player Two is Level \"+str(playerTwoLevel))\n",
    "\n",
    "#The if/elif/else statement(s) goes here\n",
    "if playerOneLevel > playerTwoLevel:\n",
    "    print(\"Player One is a higher level than player Two\")\n",
    "elif playerOneLevel == playerTwoLevel:\n",
    "    print(\"Player One is the same level as player Two\")\n",
    "else:\n",
    "    print(\"Player One is a lower level than player two\")"
   ]
  },
  {
   "cell_type": "markdown",
   "metadata": {},
   "source": [
    "## Debugging\n",
    "\n",
    "Despite our best intentions, sometimes our code doesn't work quite how we expect it to. Sometimes things will break so badly, python will tell you there's an error. Sometimes, they won't break, but your code won't do what you expect it to do. Let's look at two examples below to see what I mean:"
   ]
  },
  {
   "cell_type": "code",
   "execution_count": 14,
   "metadata": {},
   "outputs": [
    {
     "name": "stdout",
     "output_type": "stream",
     "text": [
      "Welcome back to the game\n"
     ]
    }
   ],
   "source": [
    "level = 1\n",
    "\n",
    "if level >= 1:\n",
    "    print(\"Welcome back to the game\")\n",
    "else:\n",
    "    print(\"Welcome Noob\")"
   ]
  },
  {
   "cell_type": "markdown",
   "metadata": {},
   "source": [
    "What is the error above? How can I fix it?"
   ]
  },
  {
   "cell_type": "code",
   "execution_count": 15,
   "metadata": {},
   "outputs": [
    {
     "name": "stdout",
     "output_type": "stream",
     "text": [
      "You're higher than level 1\n"
     ]
    }
   ],
   "source": [
    "level = \"Level One Potato Chip Paladin\"\n",
    "\n",
    "if level == 1:\n",
    "    print(\"Welcome Noob\")\n",
    "else:\n",
    "    print(\"You're higher than level 1\")"
   ]
  },
  {
   "cell_type": "markdown",
   "metadata": {},
   "source": [
    "Notice that the code above ran just fine, but it did not give us the expected output. We are indeed level one, so it should have printed `Welcome Noob`. Instead, we were told we are higher than level one. Why?"
   ]
  },
  {
   "cell_type": "markdown",
   "metadata": {},
   "source": [
    "## Catching errors\n",
    "\n",
    "It is useful to include statements within our code to let us know where we are and if we have an error or unexpected outcome. Remember in yesterday's activity? If you put an invalid combo together, instead of throwing errors, the code told you what you had done wrong and what you needed to modify. This was because I built in checks to make sure you were following the directions. If you did manage to get an error from Python, congrats, you thought of some way to break the code that I didn't...\n",
    "\n",
    "So how would this look in our code? Let's modify the above example to demonstrate this:"
   ]
  },
  {
   "cell_type": "code",
   "execution_count": 16,
   "metadata": {},
   "outputs": [
    {
     "name": "stdout",
     "output_type": "stream",
     "text": [
      "Your level doesn't make sense to me...\n"
     ]
    }
   ],
   "source": [
    "level = \"Level One Potato Chip Paladin\"\n",
    "\n",
    "if not isinstance(level, int):\n",
    "    print(\"Your level doesn't make sense to me...\")\n",
    "elif level == 1:\n",
    "    print(\"Welcome Noob\")\n",
    "else:\n",
    "    print(\"You are higher than level 1\")"
   ]
  },
  {
   "cell_type": "markdown",
   "metadata": {},
   "source": [
    "Notice that this code is logically equivalent to the code in the examples above. However, I've included an extra line in my `if :` statement to tell me if I'm passing something to my code that won't work. This uses a new comparison:\n",
    "\n",
    "`isinstance(variable, type)`\n",
    "\n",
    "This comparison takes my variable and compares it to the type provided. If my variable is of the correct type, it returns `True`, otherwise it returns `False`.\n",
    "\n",
    "### Markers to show where we are\n",
    "\n",
    "Sometimes it isn't clear exactly where the code breaks. Thus, it is useful to provide hints to yourself about where you are in your code. This is simple using the `print()` function:"
   ]
  },
  {
   "cell_type": "code",
   "execution_count": 17,
   "metadata": {},
   "outputs": [
    {
     "name": "stdout",
     "output_type": "stream",
     "text": [
      "Comparing Level...\n",
      "You're not level 1 or 2. Is something wrong?\n",
      "Your level doesn't make any sense to me\n"
     ]
    }
   ],
   "source": [
    "level = \"Level One Potato Chip Paladin\"\n",
    "\n",
    "print(\"Comparing Level...\")\n",
    "\n",
    "if level == 1:\n",
    "    print(\"Welcome Noob\")\n",
    "elif level == 2:\n",
    "    print(\"You're level 2\")\n",
    "else:\n",
    "    print(\"You're not level 1 or 2. Is something wrong?\")\n",
    "    if isinstance(level, int):\n",
    "        print(\"You must be higher than level 2\")\n",
    "    else:\n",
    "        print(\"Your level doesn't make any sense to me\")"
   ]
  },
  {
   "cell_type": "markdown",
   "metadata": {},
   "source": [
    "This is a very simple example, telling us that we have made it through the declaration step of `level` without any problems before making it to the `if :` statement below. Then, it told us again that we'd passed the `if : elif:` in our code and moved on to the `else:` statement. When we trace the code back, we can see exactly where our code went wrong."
   ]
  },
  {
   "cell_type": "markdown",
   "metadata": {},
   "source": [
    "## The input() statement\n",
    "\n",
    "Now, well designed code won't break from silly errors like mismatched types. I know that my `level` should be an integer, so I won't be putting `\"Level One Potato Chip Paladin\"` into the code myself. Typically, errors like this come from some sort of user interaction or game interaction. To demonstrate this, I'll introduce the `input()` statement.\n",
    "\n",
    "`input()` is the simplest way to get something from the user in python. It displays a box for the user to type in, and then returns the contents of the box as a string:"
   ]
  },
  {
   "cell_type": "code",
   "execution_count": 19,
   "metadata": {},
   "outputs": [
    {
     "name": "stdout",
     "output_type": "stream",
     "text": [
      "Type anything, then press enter.lkj\n"
     ]
    },
    {
     "data": {
      "text/plain": [
       "'lkj'"
      ]
     },
     "execution_count": 19,
     "metadata": {},
     "output_type": "execute_result"
    }
   ],
   "source": [
    "input(\"Type anything, then press enter.\")"
   ]
  },
  {
   "cell_type": "markdown",
   "metadata": {},
   "source": [
    "Usually, it is best to set a variable equal to your input instead of using raw input"
   ]
  },
  {
   "cell_type": "code",
   "execution_count": 20,
   "metadata": {},
   "outputs": [
    {
     "name": "stdout",
     "output_type": "stream",
     "text": [
      "Type anything, then press enter. hello world\n",
      "You have typed: hello world\n"
     ]
    }
   ],
   "source": [
    "myInput = input(\"Type anything, then press enter. \")\n",
    "print(\"You have typed: \"+myInput)"
   ]
  },
  {
   "cell_type": "code",
   "execution_count": 23,
   "metadata": {},
   "outputs": [
    {
     "name": "stdout",
     "output_type": "stream",
     "text": [
      "What is your level? lkjuytred\n"
     ]
    },
    {
     "ename": "ValueError",
     "evalue": "invalid literal for int() with base 10: 'lkjuytred'",
     "output_type": "error",
     "traceback": [
      "\u001b[1;31m---------------------------------------------------------------------------\u001b[0m",
      "\u001b[1;31mValueError\u001b[0m                                Traceback (most recent call last)",
      "\u001b[1;32m<ipython-input-23-6e36f802848d>\u001b[0m in \u001b[0;36m<module>\u001b[1;34m\u001b[0m\n\u001b[1;32m----> 1\u001b[1;33m \u001b[0mlevel\u001b[0m \u001b[1;33m=\u001b[0m \u001b[0mint\u001b[0m\u001b[1;33m(\u001b[0m\u001b[0minput\u001b[0m\u001b[1;33m(\u001b[0m\u001b[1;34m\"What is your level? \"\u001b[0m\u001b[1;33m)\u001b[0m\u001b[1;33m)\u001b[0m\u001b[1;33m\u001b[0m\u001b[1;33m\u001b[0m\u001b[0m\n\u001b[0m\u001b[0;32m      2\u001b[0m \u001b[1;33m\u001b[0m\u001b[0m\n\u001b[0;32m      3\u001b[0m \u001b[1;32mif\u001b[0m \u001b[0mlevel\u001b[0m \u001b[1;33m>\u001b[0m \u001b[1;36m1\u001b[0m\u001b[1;33m:\u001b[0m\u001b[1;33m\u001b[0m\u001b[1;33m\u001b[0m\u001b[0m\n\u001b[0;32m      4\u001b[0m     \u001b[0mprint\u001b[0m\u001b[1;33m(\u001b[0m\u001b[1;34m\"Welcome back\"\u001b[0m\u001b[1;33m)\u001b[0m\u001b[1;33m\u001b[0m\u001b[1;33m\u001b[0m\u001b[0m\n\u001b[0;32m      5\u001b[0m \u001b[1;32melse\u001b[0m\u001b[1;33m:\u001b[0m\u001b[1;33m\u001b[0m\u001b[1;33m\u001b[0m\u001b[0m\n",
      "\u001b[1;31mValueError\u001b[0m: invalid literal for int() with base 10: 'lkjuytred'"
     ]
    }
   ],
   "source": [
    "level = int(input(\"What is your level? \"))\n",
    "\n",
    "if level > 1:\n",
    "    print(\"Welcome back\")\n",
    "else:\n",
    "    print(\"Welcome noob\")"
   ]
  },
  {
   "cell_type": "markdown",
   "metadata": {},
   "source": [
    "### The *try: except:* statement\n",
    "\n",
    "There is another conditional statement in python, called the `try:` statement, which is built to handle errors like this. It attmepts what is contained within the `try`, and if it returns an error, moves to the `except:` statement. Let me show you a simple example, comparing an intentionally incorrect statement to a `try: except:` statement:"
   ]
  },
  {
   "cell_type": "code",
   "execution_count": 24,
   "metadata": {},
   "outputs": [
    {
     "ename": "NameError",
     "evalue": "name 'newPlayerLevel' is not defined",
     "output_type": "error",
     "traceback": [
      "\u001b[1;31m---------------------------------------------------------------------------\u001b[0m",
      "\u001b[1;31mNameError\u001b[0m                                 Traceback (most recent call last)",
      "\u001b[1;32m<ipython-input-24-a33817aded30>\u001b[0m in \u001b[0;36m<module>\u001b[1;34m\u001b[0m\n\u001b[1;32m----> 1\u001b[1;33m \u001b[0mprint\u001b[0m\u001b[1;33m(\u001b[0m\u001b[1;34m\"The new player's level is \"\u001b[0m\u001b[1;33m+\u001b[0m\u001b[0mstr\u001b[0m\u001b[1;33m(\u001b[0m\u001b[0mnewPlayerLevel\u001b[0m\u001b[1;33m)\u001b[0m\u001b[1;33m)\u001b[0m\u001b[1;33m\u001b[0m\u001b[1;33m\u001b[0m\u001b[0m\n\u001b[0m",
      "\u001b[1;31mNameError\u001b[0m: name 'newPlayerLevel' is not defined"
     ]
    }
   ],
   "source": [
    "print(\"The new player's level is \"+str(newPlayerLevel))"
   ]
  },
  {
   "cell_type": "code",
   "execution_count": 26,
   "metadata": {},
   "outputs": [
    {
     "name": "stdout",
     "output_type": "stream",
     "text": [
      "The new player's level is 2\n"
     ]
    }
   ],
   "source": [
    "newPlayerOne = 2\n",
    "\n",
    "try:\n",
    "    print(\"The new player's level is \"+str(newPlayerOne))\n",
    "except:\n",
    "    print(\"The new player doesn't have a level yet\")"
   ]
  },
  {
   "cell_type": "markdown",
   "metadata": {},
   "source": [
    "After we defined `newPlayerLevel`, the execution of the `try` statement was successful. Now that the `try:` statement executed as intended, or perhaps more effectively that we made it past a certain `except:` statement, we can do our level comparisons from before by using an `else:`. Just like with `if:` the `else` on an `except:` will execute if the `except:` doesn't. \n",
    "\n",
    "There is also a `finally:` statement, that executes at the end of the `try:` block whether the `try:`, `except:`, or `else:` has happened. You can think of it as \"summing up\" the try statement."
   ]
  },
  {
   "cell_type": "code",
   "execution_count": 1,
   "metadata": {},
   "outputs": [
    {
     "name": "stdout",
     "output_type": "stream",
     "text": [
      "The new player doesn't have a level yet\n",
      "The try statement is complete\n"
     ]
    }
   ],
   "source": [
    "#newPlayerTwo = 3\n",
    "\n",
    "try:\n",
    "    print(\"The new player's level is \"+str(newPlayerTwo))\n",
    "except:\n",
    "    print(\"The new player doesn't have a level yet\")\n",
    "else:\n",
    "    if newPlayerTwo == 1:\n",
    "        print(\"Welcome Noob\")\n",
    "    elif newPlayerTwo == 2:\n",
    "        print(\"You're level 2\")\n",
    "    else:\n",
    "        print(\"You are higher than level 2!\")\n",
    "finally:\n",
    "    print(\"The try statement is complete\")"
   ]
  },
  {
   "cell_type": "markdown",
   "metadata": {},
   "source": [
    "### *try* vs * if*\n",
    "\n",
    "These two statements are very similar, and can usually accomplish the same tasks. So which do you choose?\n",
    "\n",
    "**Task:** Let's practice with all of this. Ask for the player's level using an `input()` statement, then create an `if : elif: else:` statement, or a `try: except: else: finally:` statment that tells the player how many experience points they have based on their `input()` level. You can use my numbers for XP and player level from earlier or make up your own. Make sure you include some checks to make sure your code doesn't break.\n",
    "\n",
    "Then, once you're satisfied with your code, find someone else who is finished and swap computers. Try to break their code by putting random weird things into the `input()`, and they'll try to break yours doing the same. If they succeed, work together to figure out how to avoid the problem. Keep fixing your code until your partner can't break it."
   ]
  },
  {
   "cell_type": "code",
   "execution_count": null,
   "metadata": {},
   "outputs": [],
   "source": [
    "playerLevel = input(\"Please input your player level\")\n",
    "\n",
    "#Use Condional statements here to output the player's experience points from earlier in the lesson."
   ]
  }
 ],
 "metadata": {
  "anaconda-cloud": {},
  "kernelspec": {
   "display_name": "Python 3",
   "language": "python",
   "name": "python3"
  },
  "language_info": {
   "codemirror_mode": {
    "name": "ipython",
    "version": 3
   },
   "file_extension": ".py",
   "mimetype": "text/x-python",
   "name": "python",
   "nbconvert_exporter": "python",
   "pygments_lexer": "ipython3",
   "version": "3.7.3"
  }
 },
 "nbformat": 4,
 "nbformat_minor": 2
}
