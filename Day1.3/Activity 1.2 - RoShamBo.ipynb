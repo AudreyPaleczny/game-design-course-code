{
 "cells": [
  {
   "cell_type": "markdown",
   "metadata": {},
   "source": [
    "# Activity 1.2 - RoShamBo\n",
    "\n",
    "Now let's have some fun. Now you know how to use the `if : elif : else:`  and `try: except: else: finally:` control structures; let's use them to make our first game.\n",
    "\n",
    "**RoShamBo**\n",
    "\n",
    "In this activity, we will use our knowledge of control statements to play a game **RoShamBo**, also known as *Rock, Paper, Scissors* against the computer. For those of you who don't aren't familiar with RoShamBo, or need a quick refresher, here's a short (and rather funny) video explaining how to play the game, among a few other things...\n",
    "\n",
    "<a href=\"http://www.youtube.com/watch?feature=player_embedded&v=nKm8LXwKnbs\n",
    "\" target=\"_blank\"><img src=\"http://img.youtube.com/vi/nKm8LXwKnbs/0.jpg\" \n",
    "alt=\"IMAGE ALT TEXT HERE\" width=\"480\" height=\"360\" border=\"10\" /></a>\n",
    "\n",
    "For your code, your user will input a variable called `userChoice` and compare it against an \"AI\" opponent. The \"AI\" should just be the computer randomly choosing \"Rock\", \"Paper\", or \"Scissors\". Then, the game should inform the user if they have won the game, lost the game, or tied.\n",
    "\n",
    "To make your 'AI', you will need to use the `import module` code we learned today. We will want to use the `numpy` module to randomly choose 'Rock', 'Paper', or 'Scissors'. The import code is below."
   ]
  },
  {
   "cell_type": "code",
   "execution_count": 1,
   "metadata": {},
   "outputs": [],
   "source": [
    "import numpy as np"
   ]
  },
  {
   "cell_type": "markdown",
   "metadata": {},
   "source": [
    "*Hint: We did use some random stuff in the morning lesson. Can you alter that to do what you want in this code? You will need to randomly choose 'Rock', 'Paper', or 'Scissors' somehow (I suggest a Tuple and indexing from yesterday's lesson), and compare it to what the user has entered*\n",
    "\n",
    "**Don't forget to include player input and debugging principles from Lesson 1.2.**\n",
    "\n",
    "We will be working in pairs using our Peer-to-peer learning style. Only one of you will be coding the game, while the other will be providing support. \n",
    "\n",
    "Good luck!"
   ]
  },
  {
   "cell_type": "code",
   "execution_count": null,
   "metadata": {
    "collapsed": true
   },
   "outputs": [],
   "source": [
    "#Code your RoShamBo game here\n",
    "import numpy as np\n",
    "\n",
    "choices = ('Rock', 'Paper', 'Scissors')\n",
    "aiChoice = choices[np.random.randint(0, len(choices))]"
   ]
  },
  {
   "cell_type": "markdown",
   "metadata": {},
   "source": [
    "## All done?\n",
    "\n",
    "Compare your code to another groups to see if you accomplished the task in the same way. If they did something different, discuss the differences and write down the pros and cons of each method. The TAs will be collecting this sheet.\n",
    "\n",
    "Then, add some comments to your code about what you want to add to your RoShamBo game. What types of operations in your code would you need to do this and where in your code do you think they should go (you don't need to know the coding terms here, just use English to describe things like \"animate a hand\" or something similar)? Think back to the games you've played about the best way to make the game fun and accessible. We will learn more complex control structures and data types in the coming days, and be able to implement some of these ideas before the class is over.\n",
    "\n",
    "Finally, once all of these tasks are complete, go play some board games! Remember, you need to fill out 3 game analysis forms by the end of the week, so here's a good chance to get one done."
   ]
  },
  {
   "cell_type": "code",
   "execution_count": null,
   "metadata": {
    "collapsed": true
   },
   "outputs": [],
   "source": []
  }
 ],
 "metadata": {
  "kernelspec": {
   "display_name": "Python 3",
   "language": "python",
   "name": "python3"
  },
  "language_info": {
   "codemirror_mode": {
    "name": "ipython",
    "version": 3
   },
   "file_extension": ".py",
   "mimetype": "text/x-python",
   "name": "python",
   "nbconvert_exporter": "python",
   "pygments_lexer": "ipython3",
   "version": "3.6.5"
  }
 },
 "nbformat": 4,
 "nbformat_minor": 2
}
