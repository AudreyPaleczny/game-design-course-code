{
 "cells": [
  {
   "cell_type": "markdown",
   "metadata": {},
   "source": [
    "# Lesson 1.3 - Loops Control Structure\n",
    "\n",
    "Last lesson, we learned about the `if : elif : else:` and `try: except: else: finally:` control structures and their pieces. These are called Conditional Statements, and are one of the two major control structures we use in coding. The other is called a *Loop*.\n",
    "\n",
    "Loops are a control structure where code executes over and over again within the loop until something happens, whether that is meeting a condition (`while` loop) or performing something some number of times (`for` loop). In fact, most games, and especially those we're going to make, exist within a loop until the game is exited! \n",
    "\n",
    "Combining loops and conditional statements, we can essentially make our code do anything. The trick is being clever enough (which comes with practice) to combine these ideas to solve your problems.\n",
    "\n",
    "We're going to discuss the two different types of loops today, the `for` loop and the `while` loop. Both have slightly different uses, but both repeat what is inside them.\n",
    "\n",
    "## The *for* loop\n",
    "\n",
    "The `for` loop is best used for doing something a fixed number of times. Let's say we're marooned on a deserted island, and have found a list called treasureChest while exploring! We want to add all the items in the treasure chest to our inventory. We can use a `for` loop to do this.\n",
    "\n",
    "<img src = \"ArtAssets3/marooned.jpg\" width = 800> \n",
    "<center>Doesn't look so bad from the boat, does it?<br/>https://www.publicdomainpictures.net/en/view-image.php?image=153296&picture=tropical-island</center>"
   ]
  },
  {
   "cell_type": "code",
   "execution_count": 1,
   "metadata": {},
   "outputs": [
    {
     "name": "stdout",
     "output_type": "stream",
     "text": [
      "You have [] in your inventory before looting the treasure chest\n",
      "Now you have ['Gold Dubloon', 'Gold Dubloon', 'Eye Patch', 'Peg Leg'] in your inventory. We'll make a pirate out of you yet!\n"
     ]
    }
   ],
   "source": [
    "inventory = []\n",
    "treasureChest = [\"Gold Dubloon\", \"Gold Dubloon\", \"Eye Patch\", \"Peg Leg\"]\n",
    "\n",
    "print(\"You have \"+str(inventory)+\" in your inventory before looting the treasure chest\")\n",
    "\n",
    "#For Loop goes here\n",
    "for item in treasureChest:\n",
    "    inventory.append(item)\n",
    "\n",
    "print(\"Now you have \"+str(inventory)+\" in your inventory. We'll make a pirate out of you yet!\")"
   ]
  },
  {
   "cell_type": "markdown",
   "metadata": {},
   "source": [
    "Unfortunately, we can't eat anything we've found in the chest, but at least we'll look the part of pirate as we starve! Maybe we'll find some food later.\n",
    "\n",
    "Let's break down exactly what is happening here. To do this, I'll use a caret `^` to denote where we are in our our loop.\n",
    "\n",
    "`for item in treasureChest:`\n",
    "\n",
    "First Pass: \n",
    "\n",
    "`treasureChest = [\"Gold Dubloon\", \"Gold Dubloon\", \"Eye Patch\", \"Peg Leg\"]\n",
    "                        ^`\n",
    "\n",
    "`item = \"Gold Dubloon\"`\n",
    "\n",
    "`inventory = [\"Gold Dubloon\"]`\n",
    "\n",
    "Second Pass:\n",
    "\n",
    "`treasureChest = [\"Gold Dubloon\", \"Gold Dubloon\", \"Eye Patch\", \"Peg Leg\"]\n",
    "                                        ^`\n",
    "                                        \n",
    "`item = \"Gold Dubloon\"`\n",
    "\n",
    "`inventory = [\"Gold Dubloon\", \"Gold Dubloon]`\n",
    "\n",
    "Third Pass:\n",
    "\n",
    "`treasureChest = [\"Gold Dubloon\", \"Gold Dubloon\", \"Eye Patch\", \"Peg Leg\"]\n",
    "                                                       ^`\n",
    "\n",
    "`item = \"Eye Patch\"`\n",
    "\n",
    "`inventory = [\"Gold Dubloon\", \"Gold Dubloon\", \"Eye Patch\"]`\n",
    "\n",
    "Fourth Pass:\n",
    "\n",
    "`treasureChest = [\"Gold Dubloon\", \"Gold Dubloon\", \"Eye Patch\", \"Peg Leg\"]\n",
    "                                                                   ^`\n",
    "\n",
    "`item = \"Peg Leg\"`\n",
    "\n",
    "`inventory = [\"Gold Dubloon\", \"Gold Dubloon\", \"Eye Patch\", \"Peg Leg]`\n",
    "\n",
    "Fifth Pass:\n",
    "\n",
    "`treasureChest = [\"Gold Dubloon\", \"Gold Dubloon\", \"Eye Patch\", \"Peg Leg\"] exit\n",
    "                                                                           ^\n",
    "`\n",
    "\n",
    "After we've looped through every item in the treasure chest, the loop goes back to the top, sees there's no items left, and says \"I'm done\" then exits the loop.\n",
    "\n",
    "If we are making a game, though, we have a small problem. What's left in the treasure chest?"
   ]
  },
  {
   "cell_type": "code",
   "execution_count": 2,
   "metadata": {},
   "outputs": [
    {
     "name": "stdout",
     "output_type": "stream",
     "text": [
      "['Gold Dubloon', 'Gold Dubloon', 'Eye Patch', 'Peg Leg']\n"
     ]
    }
   ],
   "source": [
    "#What's in the treasureChest???\n",
    "\n",
    "print(treasureChest)"
   ]
  },
  {
   "cell_type": "markdown",
   "metadata": {},
   "source": [
    "**Task:** If we've looted the chest, we must remove the items in the chest. How can we fix this? Try to empty the treasure chest after looting it below. We used the `list.append()` method to add items, you can use the `list.remove()` method to remove items.\n",
    "\n",
    "*Warning! If you modify the treasureChest as you are looping through it, you will not loop correctly! Specifically, the loop will not work as many times as you want it to, because the loop exits when it hits the last index of the items in the list. You will have to use two loops here, one to loot the chest, and the next to empty the chest*"
   ]
  },
  {
   "cell_type": "code",
   "execution_count": 4,
   "metadata": {},
   "outputs": [
    {
     "name": "stdout",
     "output_type": "stream",
     "text": [
      "You have [] in your inventory before looting the treasure chest\n",
      "Now you have ['Gold Dubloon', 'Gold Dubloon', 'Eye Patch', 'Peg Leg'] in your inventory, and there is ['Gold Dubloon', 'Peg Leg'] left in the treasure chest\n"
     ]
    }
   ],
   "source": [
    "inventory = []\n",
    "treasureChest = [\"Gold Dubloon\", \"Gold Dubloon\", \"Eye Patch\", \"Peg Leg\"]\n",
    "\n",
    "print(\"You have \"+str(inventory)+\" in your inventory before looting the treasure chest\")\n",
    "\n",
    "#Loot the treasureChest and empty the treasureChest here\n",
    "for loot in treasureChest:\n",
    "    inventory.append(loot)\n",
    "    \n",
    "for item in inventory:\n",
    "    treasureChest.remove(item)\n",
    "\n",
    "print(\"Now you have \"+str(inventory)+\" in your inventory, and there is \"+str(treasureChest)+\" left in the treasure chest\")"
   ]
  },
  {
   "cell_type": "markdown",
   "metadata": {},
   "source": [
    "*Note:* the colon `:` is back! As are the indents. The same kind of structure we used for yesterday's Lesson, 1.2, for `if : elif : else:` statements is needed for `for :` loops (and `while():` loops too)\n",
    "\n",
    "Unfortunately, you can't eat gold, and if we are going to survive on this deserted island, we'll need to find some food and water. \n",
    "\n",
    "<img src = \"ArtAssets3/pirateBitingCoin.jpg\" width = 600>\n",
    "<center>You can try, but you'll probably just end up with fewer teeth...<br/>https://www.gettyimages.com/detail/photo/pirate-biting-gold-coin-and-holding-gun-at-high-res-stock-photography/200530871-003</center>\n",
    "\n",
    "To do this, we will import the deserted Island into our code. The deserted Island contains a tuple full of items we can find if we search the island. Let's search the island's tuple *items* for \"Food\" and \"Water\"? When you find them, add them to your inventory. *Hint:* We'll need to use an `if :` statement as well."
   ]
  },
  {
   "cell_type": "code",
   "execution_count": 5,
   "metadata": {},
   "outputs": [
    {
     "name": "stdout",
     "output_type": "stream",
     "text": [
      "You have [] in your inventory before searching the island\n",
      "You have found ['Food', 'Water', 'Food', 'Water'] while searching the island\n",
      "You've found Food and Water! You'll survive another day\n"
     ]
    }
   ],
   "source": [
    "import desertedIsland\n",
    "\n",
    "inventory = []\n",
    "\n",
    "print(\"You have \"+str(inventory)+\" in your inventory before searching the island\")\n",
    "\n",
    "#for loop to search the desertedIsland.items tuple and if statement to see if the item is Food or Water\n",
    "for item in desertedIsland.items:\n",
    "    if item == \"Food\" or item == \"Water\":\n",
    "        inventory.append(item)\n",
    "        \n",
    "print(\"You have found \"+str(inventory)+\" while searching the island\")\n",
    "\n",
    "if \"Food\" in inventory and \"Water\" in inventory:\n",
    "    print(\"You've found Food and Water! You'll survive another day\")\n",
    "else:\n",
    "    print(\"You didn't find Food and Water.... Try again!\")"
   ]
  },
  {
   "cell_type": "markdown",
   "metadata": {},
   "source": [
    "### You choose the number\n",
    "\n",
    "You can also set the number of times a for loop executes, too. Let's say that the whole island is too big to search in one day. Maybe we only have time to search through 5 items each day. To do this, we will still use a `for:` loop:"
   ]
  },
  {
   "cell_type": "code",
   "execution_count": 7,
   "metadata": {},
   "outputs": [
    {
     "name": "stdout",
     "output_type": "stream",
     "text": [
      "You have [] in your inventory before searching the island\n",
      "You have found ['Rock', 'Rock', 'Palm Tree', 'Treasure Chest', 'Food'] while searching the island on the first day\n"
     ]
    }
   ],
   "source": [
    "inventory = []\n",
    "\n",
    "print(\"You have \"+str(inventory)+\" in your inventory before searching the island\")\n",
    "\n",
    "#for loop to search the desertedIsland.items tuple and if statement to see if the item is Food or Water\n",
    "for x in range(5):\n",
    "    inventory.append(desertedIsland.items[x])\n",
    "        \n",
    "print(\"You have found \"+str(inventory)+\" while searching the island on the first day\")"
   ]
  },
  {
   "cell_type": "markdown",
   "metadata": {},
   "source": [
    "If we run this code again, we will not find anything new. We will only search through the same five indices [0,1,2,3,4] over and over again. So how do we search the rest of the island?\n",
    "\n",
    "To fix this, we need to understand the `range()` function in the above `for:` loop. `range(N)` is actually making a list of elements starting at '0' and ending at 'N-1', so `range(5)` outputs [0,1,2,3,4]. We are then looping through every element of this list as x, just like we did for the `for item in treasureChest:` above. However, these items are numbers, not strings, and we can use them as indices for searching our desertedIsland tuple.\n",
    "\n",
    "This is a bit confusing, but should make more sense when we talk about how to change `range()`.\n",
    "\n",
    "**Defining a different starting point**\n",
    "I can include two numbers in `range()` to define a start and end point for my generated list. What do you think `range(2,7)` outputs?"
   ]
  },
  {
   "cell_type": "markdown",
   "metadata": {},
   "source": [
    "range(2,7) = [2,3,4,5,6]"
   ]
  },
  {
   "cell_type": "markdown",
   "metadata": {},
   "source": [
    "Using this, we can search the next 5 items on the island for day 2. Notice I haven't declared `inventory = []` again so we can keep track of what we found on day one. If you run this code multiple times, however, funny things will happen:"
   ]
  },
  {
   "cell_type": "code",
   "execution_count": 10,
   "metadata": {},
   "outputs": [
    {
     "name": "stdout",
     "output_type": "stream",
     "text": [
      "You have ['A Grumpy Parrot', 'Bones of the Last Marooned Pirate', 'Water', 'A Bag of Silver', 'Message in a Bottle'] in your inventory starting Day 2 on the Island\n",
      "You have found ['A Grumpy Parrot', 'Bones of the Last Marooned Pirate', 'Water', 'A Bag of Silver', 'Message in a Bottle', 'A Grumpy Parrot', 'Bones of the Last Marooned Pirate', 'Water', 'A Bag of Silver', 'Message in a Bottle'] while searching the island on the first two days\n"
     ]
    }
   ],
   "source": [
    "\n",
    "\n",
    "print(\"You have \"+str(inventory)+\" in your inventory starting Day 2 on the Island\")\n",
    "\n",
    "#for loop to search the desertedIsland.items tuple and if statement to see if the item is Food or Water\n",
    "for x in range(5,10):\n",
    "    inventory.append(desertedIsland.items[x])\n",
    "        \n",
    "print(\"You have found \"+str(inventory)+\" while searching the island on the first two days\")"
   ]
  },
  {
   "cell_type": "markdown",
   "metadata": {},
   "source": [
    "**Task:** Now that we know how to how to search for more than one day, how many days will it take us to search the whole island? What items will we find each day of our search? Use the empty lists below to answer these questions."
   ]
  },
  {
   "cell_type": "code",
   "execution_count": 14,
   "metadata": {},
   "outputs": [
    {
     "name": "stdout",
     "output_type": "stream",
     "text": [
      "25\n",
      "On day one we found ['Rock', 'Rock', 'Palm Tree', 'Treasure Chest', 'Food']\n",
      "On day two we found ['A Grumpy Parrot', 'Bones of the Last Marooned Pirate', 'Water', 'A Bag of Silver', 'Message in a Bottle']\n",
      "On day three we found ['Food', 'A Rusty Sword', 'Dirty Underwear', 'Sand', 'More Sand']\n",
      "On day four we found ['Even More Sand', 'A Dead Fish', 'Palm Tree', 'Palm Tree', 'Fallen Log']\n",
      "On day five we found ['Crocodile', 'Snake', 'Rock', 'Water', 'A Beat Up Practice Dummy']\n"
     ]
    }
   ],
   "source": [
    "dayOneItems = []\n",
    "dayTwoItems = []\n",
    "dayThreeItems = []\n",
    "#... add more day lists as needed. \n",
    "dayFourItems = []\n",
    "dayFiveItems = []\n",
    "\n",
    "print(len(desertedIsland.items))\n",
    "\n",
    "#Your island searching code should go here\n",
    "for x in range(0,5):\n",
    "    dayOneItems.append(desertedIsland.items[x])\n",
    "    dayTwoItems.append(desertedIsland.items[x+5])\n",
    "    dayThreeItems.append(desertedIsland.items[x+10])\n",
    "    dayFourItems.append(desertedIsland.items[x+15])\n",
    "    dayFiveItems.append(desertedIsland.items[x+20])\n",
    "\n",
    "print(\"On day one we found \"+str(dayOneItems))\n",
    "#Repeat statements like this to list out all the items you've found each day.\n",
    "print(\"On day two we found \"+str(dayTwoItems))\n",
    "print(\"On day three we found \"+str(dayThreeItems))\n",
    "print(\"On day four we found \"+str(dayFourItems))\n",
    "print(\"On day five we found \"+str(dayFiveItems))"
   ]
  },
  {
   "cell_type": "markdown",
   "metadata": {},
   "source": [
    "### more on ranges\n",
    "\n",
    "In addition to making a `range()` start or end anywhere, we can also set the interval by which it counts up. The structure of the full statement is here: `range(start,finish,increment)`. \n",
    "\n",
    "For example, if we wanted to count from 0 to 20 by twos, we would use the statement `range(0,21,2)`"
   ]
  },
  {
   "cell_type": "markdown",
   "metadata": {},
   "source": [
    "## The *while* loop\n",
    "\n",
    "The `for :` loop lets us complete a set number of operations, and while this is useful, sometimes you want to continue doing something until a condition is met, like play a game until you quit. For this, we use the `while():` loop. It loops through the code as long as the condition in the parenthesis is `True`. Once the condition is `False`, it exits the loop.\n",
    "\n",
    "Let me show you an example. We'll explore our Deserted Island for as long as we are alive, but eventually, we will succumb to starvation or dehydration. Let's say this happens after 10 days on the island:"
   ]
  },
  {
   "cell_type": "code",
   "execution_count": 15,
   "metadata": {},
   "outputs": [
    {
     "name": "stdout",
     "output_type": "stream",
     "text": [
      "You have succumbed to the elements and died...\n",
      "Thanks for playing\n"
     ]
    }
   ],
   "source": [
    "from IPython.display import clear_output\n",
    "\n",
    "alive = True\n",
    "days = 0\n",
    "\n",
    "while(alive):\n",
    "    if days < 10:\n",
    "        print(\"You have been on the island for \"+str(days)+\" days\")\n",
    "        days += 1\n",
    "        input(\"Press enter to continue to the next day\") #This is some simple flow control\n",
    "        clear_output()\n",
    "    else:\n",
    "        print(\"You have succumbed to the elements and died...\")\n",
    "        alive = False\n",
    "        \n",
    "print(\"Thanks for playing\")"
   ]
  },
  {
   "cell_type": "markdown",
   "metadata": {},
   "source": [
    "**else and while**\n",
    "\n",
    "Just like the `if :` statement in Lesson 3, the `while():` loop is also a conditional statement. Thus, you can use `else:` statement with a `while():` loop, just like you used it in the `if :` statement. That means when the `while():` statement is false, the code will execute the `else:` part of the statement. It will also move to the `else:` part of the code if the condition isn't met at the start.\n",
    "\n",
    "For our code above, the `else:` statement could be used to tell the player 'Game over':"
   ]
  },
  {
   "cell_type": "code",
   "execution_count": 16,
   "metadata": {},
   "outputs": [
    {
     "name": "stdout",
     "output_type": "stream",
     "text": [
      "You have succumbed to the elements and died...\n",
      "Thanks for playing\n"
     ]
    }
   ],
   "source": [
    "#while loop with else statement\n",
    "from IPython.display import clear_output\n",
    "\n",
    "alive = True\n",
    "days = 0\n",
    "\n",
    "while(alive):\n",
    "    if days < 10:\n",
    "        print(\"You have been on the island for \"+str(days)+\" days\")\n",
    "        days += 1\n",
    "        input(\"Press enter to continue to the next day\") #This is some simple flow control\n",
    "        clear_output()\n",
    "    else:\n",
    "        print(\"You have succumbed to the elements and died...\")\n",
    "        alive = False\n",
    "else:      \n",
    "    print(\"Thanks for playing\")"
   ]
  },
  {
   "cell_type": "markdown",
   "metadata": {},
   "source": [
    "Now, change `alive` to `False` and try to run the code again. What happens?"
   ]
  },
  {
   "cell_type": "markdown",
   "metadata": {},
   "source": [
    "## *break* and *continue*\n",
    "\n",
    "There's a pair of keywords that coincide with loops. These are `break` and `continue`, and are usually used in conjunction with an `if :` statement.\n",
    "\n",
    "`break` allows us to exit a loop prematurely. It is like a forced quit. \n",
    "\n",
    "Similarly, the `continue` statement skips any code below it and goes back to the top of the loop. \n",
    "\n",
    "I'm going to show you how these work by a group game design! Let's create a small game that let's us randomly search the `desertedIsland` from earlier indefinetly until we encounter the `Crocodile`. Once we encounter the `Crocodile`, we are eaten and lose the game. After we are eaten, we should tell the user how many days they survived.\n",
    "\n",
    "Don't forget, to make the design fun we need keep the player entertained by adding some amount of interaction. Let's include an player `input()` asking them if they want to search the island again on the next day. We'll force them to search, but can include some humor in the interaction. Here, we will also implement a `break` so that we can exit our code early while playing.\n",
    "\n",
    "Let's brainstorm how this might work together. I've started the skeleton of the code for us below:"
   ]
  },
  {
   "cell_type": "code",
   "execution_count": 20,
   "metadata": {},
   "outputs": [
    {
     "name": "stdout",
     "output_type": "stream",
     "text": [
      "Days on the deserted island: 22\n",
      "Oh no, you have been eaten by the Crocodile!!\n",
      "Game over. You survived for 22 days.\n"
     ]
    }
   ],
   "source": [
    "import numpy as np\n",
    "from IPython.display import clear_output\n",
    "import desertedIsland\n",
    "\n",
    "alive = True\n",
    "days = 0\n",
    "\n",
    "while(alive):\n",
    "    if days == 0:\n",
    "        print(\"You have washed up on a Deserted Island! You must search the island for Food and Water to survive until rescue...\")\n",
    "    print(\"Days on the deserted island: \"+str(days))\n",
    "    \n",
    "    #Our code to search the Island and encounter the Crocodile goes here\n",
    "    encounter = desertedIsland.items[np.random.randint(len(desertedIsland.items))]\n",
    "    if encounter == \"Crocodile\":\n",
    "        print(\"Oh no, you have been eaten by the Crocodile!!\")\n",
    "        alive = False\n",
    "        continue\n",
    "    else:\n",
    "        print(\"You have found an \"+encounter+\".\\n\")\n",
    "    \n",
    "    #This is the start of our player input section. We'll modify this code to make the gameplay fun.\n",
    "    decision = input(\"Keep searching the Deserted Island? (Y/N) \")\n",
    "    if decision == 'quit':\n",
    "        break\n",
    "    elif decision == 'Y':\n",
    "        print(\"Good choice, maybe you'll survive another day\")\n",
    "    elif decision == 'N':\n",
    "        print(\"Too bad! You're stuck here! Better keep searching...\")\n",
    "    else:\n",
    "        print(\"I didn't understand... MMaybe you've been stuck here for too long...\")\n",
    "    days += 1\n",
    "    input(\"Press enter to continue\")\n",
    "    clear_output()\n",
    "else:\n",
    "    print(\"Game over. You survived for \"+str(days)+\" days.\")"
   ]
  },
  {
   "cell_type": "markdown",
   "metadata": {},
   "source": [
    "# Bonus Lecture - Arrays\n",
    "\n",
    "Now that we've got a handle on loops, I want to introduce a new variable type, or perhaps more accurately named data type, called an *Array*.\n",
    "\n",
    "And array, by definition, is an ordered series or arrangement. You already know the simplest form of an array, a 1-dimensional array, called a *list*. Arrays can have as many dimensions as we want, but for simplicity sake we're just going to extend them to 2-dimensions today. Here's a diagram to help demonstrate this concept:\n",
    "\n",
    "<img src = \"ArtAssets3/arraysExplained.png\" width = 800>\n",
    "\n",
    "In python, there is no built in type for a 2-dimensional array. Instead, we quite literally use a list of lists. This is demonstrated in the picture above.\n",
    "\n",
    "### Indexing\n",
    "\n",
    "Just like with lists, pieces of arrays are accessed through their indices. However, each location in a 2-dimensional array now requires 2 indices to access, rather than one. The first index points to the list within our array list, and the second index points to the location within our list.\n",
    "\n",
    "Confused, me too. Words do not do a great job explaining what's going on, so its best to show you. Let's construct an array containing geography of our deserted island. Let's imagine our island is a 4x4 square, and all the outside edges are \"Beach\" and all of the inside parts \"Jungle\":\n",
    "\n",
    "<img src = \"ArtAssets3/squareIsland.png\">\n",
    "<center>A real tropical paradise! Now in 8-bit</center>"
   ]
  },
  {
   "cell_type": "code",
   "execution_count": null,
   "metadata": {},
   "outputs": [],
   "source": [
    "islandArray = [[\"beach\", \"beach\", \"beach\", \"beach\"],\n",
    "              [\"beach\", \"jungle\", \"jungle\", \"beach\"],\n",
    "              [\"beach\", \"jungle\", \"jungle\", \"beach\"],\n",
    "              [\"beach\", \"beach\", \"beach\", \"beach\"]]\n",
    "\n",
    "islandArray"
   ]
  },
  {
   "cell_type": "markdown",
   "metadata": {},
   "source": [
    "Now, let's say we want to acces the top right jungle square of our island:\n",
    "\n",
    "<img src = \"ArtAssets3/jungleTile.png\">\n",
    "\n",
    "How would we do that? What kind of indexing would we need to print what's in that location? Remember, in code we start counting at 0!"
   ]
  },
  {
   "cell_type": "code",
   "execution_count": null,
   "metadata": {},
   "outputs": [],
   "source": [
    "islandArray = [[\"beach\", \"beach\", \"beach\", \"beach\"],\n",
    "              [\"beach\", \"jungle\", \"jungle\", \"beach\"],\n",
    "              [\"beach\", \"red\", \"jungle\", \"beach\"],\n",
    "              [\"beach\", \"beach\", \"beach\", \"beach\"]]\n",
    "\n",
    "islandArray"
   ]
  },
  {
   "cell_type": "markdown",
   "metadata": {},
   "source": [
    "**Task:** With our understanding of loops, can you make a loop to print out each member of `islandArray`, and tell the user it's index?"
   ]
  },
  {
   "cell_type": "code",
   "execution_count": null,
   "metadata": {},
   "outputs": [],
   "source": [
    "for n in range(len(islandArray)):\n",
    "    for m in range(len(islandArray)):\n",
    "        print(\"There is \"+islandArray[n][m]+\" at location \"+str((n,m)))"
   ]
  },
  {
   "cell_type": "markdown",
   "metadata": {},
   "source": [
    "Now this code above is very, VERY clunky... That is because Python has no built in type *array*. I have forced a 2-dimensional array here by creating a list of lists. Iterating through this is very awkward.\n",
    "\n",
    "Instead, it is better practice to create your internal lists first, and then store them in another list. Here's what I mean:"
   ]
  },
  {
   "cell_type": "code",
   "execution_count": null,
   "metadata": {},
   "outputs": [],
   "source": [
    "columnOne = [\"beach\", \"beach\", \"beach\", \"beach\"]\n",
    "columnTwo = [\"beach\", \"jungle\", \"jungle\", \"beach\"]\n",
    "columnThree = [\"beach\", \"red\", \"jungle\", \"beach\"]\n",
    "columnFour = [\"beach\", \"beach\", \"beach\", \"beach\"]\n",
    "\n",
    "islandArray = [columnOne, columnTwo, columnThree, columnFour]\n",
    "\n",
    "islandArray"
   ]
  },
  {
   "cell_type": "markdown",
   "metadata": {},
   "source": [
    "Now iterating syntax is easier, because we have variables inside our islandArray rather than lists.\n",
    "\n",
    "I will also introduce a way to track your index in a for loop, without making a length counter like above. This uses the `enumerate()` function built in to Python. I won't explain it in details, but I'll show its use here. If you'd like to learn more about it, consult the Python documentation (built-in functions) linked at the bottom:"
   ]
  },
  {
   "cell_type": "code",
   "execution_count": null,
   "metadata": {},
   "outputs": [],
   "source": [
    "for indexN, column in enumerate(islandArray):\n",
    "    for indexM, geography in enumerate(column):\n",
    "        print(\"There is \"+geography+\" at location \"+str((indexN, indexM)))"
   ]
  },
  {
   "cell_type": "markdown",
   "metadata": {},
   "source": [
    "`enumerate()` allowed me to track the index and the items in my list at the same time, making my code much simpler. It stored the index of my list in the first argument of my loop (`index1` and `index2`), while it stored what was in my list in the second argument (`horizontal` and `geography`).\n",
    "\n",
    "### Arrays Are a Concept\n",
    "\n",
    "Now you might be thinking, \"There's ocean, beach, and jungle on your outside edges, why'd you call them beach?\" That is because arrays are largely conceptual, and a convenient way to think about our information. We can easilly extend arrays to 3-dimensions, perhaps representing physical space, or even 4-dimensions and beyond representing whatever you need. These are more mathematically advanced concepts than I want to discuss in this class, so we'll stick with 2-dimensions for now.\n",
    "\n",
    "So let's improve upon our island map:\n",
    "\n",
    "<img src = \"ArtAssets3/smallTileIsland.png\">\n",
    "\n",
    "Now our island has 64 squares, instead of 16, allowing for a much better description of what is where on our island.\n",
    "\n",
    "**Task:** Make a new array storing the locations on our island like before using the 64 square picture above. You might want to use loops to make your job easier."
   ]
  },
  {
   "cell_type": "code",
   "execution_count": null,
   "metadata": {},
   "outputs": [],
   "source": [
    "#Create your islandArray here"
   ]
  },
  {
   "cell_type": "markdown",
   "metadata": {},
   "source": [
    "# Helpful Links\n",
    "\n",
    "[Link to built in Python Functions](https://docs.python.org/3/library/functions.html \"Built-in Functions\")<br/>\n",
    "[Link to more data structure methods and explanations](https://docs.python.org/3/tutorial/datastructures.html \"Python Datastructures\")<br/>\n",
    "[Link to a great article about analyzing games](https://gamedesignconcepts.wordpress.com/2009/07/06/level-3-formal-elements-of-games/ \"Game Analysis Help\")<br/>\n",
    "[The Game Analysis Form](https://docs.google.com/document/d/1orjKWorOqr6JKB45zACrEcz6HZRPcJCLNJX3vr9_WUU/edit?usp=sharing \"Its also available on our drive\")<br/>"
   ]
  }
 ],
 "metadata": {
  "kernelspec": {
   "display_name": "Python 3",
   "language": "python",
   "name": "python3"
  },
  "language_info": {
   "codemirror_mode": {
    "name": "ipython",
    "version": 3
   },
   "file_extension": ".py",
   "mimetype": "text/x-python",
   "name": "python",
   "nbconvert_exporter": "python",
   "pygments_lexer": "ipython3",
   "version": "3.7.3"
  }
 },
 "nbformat": 4,
 "nbformat_minor": 2
}
