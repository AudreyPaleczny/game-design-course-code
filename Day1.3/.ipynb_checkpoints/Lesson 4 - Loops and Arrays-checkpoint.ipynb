{
 "cells": [
  {
   "cell_type": "markdown",
   "metadata": {},
   "source": [
    "# Lesson 4 - Loops and Arrays\n",
    "\n",
    "Last lesson, we learned about the `if : elif : else:` control structure and its pieces. This is one of the two major control structures we use in coding. The other is called a *Loop*.\n",
    "\n",
    "Loops are a control structure where code executes over and over again within the loop until something happens, whether that is meeting a condition or performing something some number of times. In fact, most games, and especially those we're going to make, exist within a loop until the game is exited! \n",
    "\n",
    "Combining loops and conditional statements, we can essentially make our code do anything. The trick is being clever enough (which comes with practice) to combine these ideas to solve your problems.\n",
    "\n",
    "We're going to discuss the two different types of loops today, the `for` loop and the `while` loop. Both have slightly different uses, but both repeat what is inside them.\n",
    "\n",
    "## The *for* loop\n",
    "\n",
    "The `for` loop is best used for doing something a fixed number of times. Let's say we're marooned on a deserted island, and have found a list called treasureChest while exploring! We want to add all the items in the treasure chest to our inventory. We can use a `for` loop to do this.\n",
    "\n",
    "<img src = \"ArtAssets4/marooned.jpg\" width = 800> \n",
    "<center>Doesn't look so bad from the boat, does it?<br/>https://www.publicdomainpictures.net/en/view-image.php?image=153296&picture=tropical-island</center>"
   ]
  },
  {
   "cell_type": "code",
   "execution_count": null,
   "metadata": {},
   "outputs": [],
   "source": []
  },
  {
   "cell_type": "markdown",
   "metadata": {},
   "source": [
    "Unfortunately, we can't eat anything we've found in the chest, but at least we'll look the part of pirate as we starve! Maybe we'll find some food later.\n",
    "\n",
    "Let's break down exactly what is happening here. To do this, I'll use a caret `^` to denote where we are in our our loop.\n",
    "\n",
    "`for item in treasureChest:`\n",
    "\n",
    "First Pass: \n",
    "\n",
    "`treasureChest = [\"Gold Dubloon\", \"Gold Dubloon\", \"Eye Patch\", \"Peg Leg\"]\n",
    "                        ^`\n",
    "\n",
    "`item = \"Gold Dubloon\"`\n",
    "\n",
    "`inventory = [\"Gold Dubloon\"]`\n",
    "\n",
    "Second Pass:\n",
    "\n",
    "`treasureChest = [\"Gold Dubloon\", \"Gold Dubloon\", \"Eye Patch\", \"Peg Leg\"]\n",
    "                                        ^`\n",
    "                                        \n",
    "`item = \"Gold Dubloon\"`\n",
    "\n",
    "`inventory = [\"Gold Dubloon\", \"Gold Dubloon]`\n",
    "\n",
    "Third Pass:\n",
    "\n",
    "`treasureChest = [\"Gold Dubloon\", \"Gold Dubloon\", \"Eye Patch\", \"Peg Leg\"]\n",
    "                                                       ^`\n",
    "\n",
    "`item = \"Eye Patch\"`\n",
    "\n",
    "`inventory = [\"Gold Dubloon\", \"Gold Dubloon\", \"Eye Patch\"]`\n",
    "\n",
    "Fourth Pass:\n",
    "\n",
    "`treasureChest = [\"Gold Dubloon\", \"Gold Dubloon\", \"Eye Patch\", \"Peg Leg\"]\n",
    "                                                                   ^`\n",
    "\n",
    "`item = \"Peg Leg\"`\n",
    "\n",
    "`inventory = [\"Gold Dubloon\", \"Gold Dubloon\", \"Eye Patch\", \"Peg Leg]`\n",
    "\n",
    "Fifth Pass:\n",
    "\n",
    "`treasureChest = [\"Gold Dubloon\", \"Gold Dubloon\", \"Eye Patch\", \"Peg Leg\"] exit\n",
    "                                                                           ^\n",
    "`\n",
    "\n",
    "After we've looped through every item in the treasure chest, the loop goes back to the top, sees there's no items left, and says \"I'm done\" then exits the loop.\n",
    "\n",
    "If we are making a game, though, we have a small problem. What's left in the treasure chest?"
   ]
  },
  {
   "cell_type": "code",
   "execution_count": 1,
   "metadata": {},
   "outputs": [],
   "source": [
    "#What's in the treasureChest???"
   ]
  },
  {
   "cell_type": "markdown",
   "metadata": {},
   "source": [
    "**Task:** If we've looted the chest, we must remove the items in the chest. How can we fix this? Try to empty the treasure chest after looting it below. We used the `list.append()` method to add items, you can use the `list.remove()` method to remove items."
   ]
  },
  {
   "cell_type": "code",
   "execution_count": 2,
   "metadata": {},
   "outputs": [],
   "source": [
    "#Make sure you empty the treasure chest!"
   ]
  },
  {
   "cell_type": "markdown",
   "metadata": {},
   "source": [
    "*Note:* the colon `:` is back! As are the indents. The same kind of structure we used in Lesson 3 for `if : elif : else:` statements is needed for `for :` loops (and `while():` loops too)\n",
    "\n",
    "**Task:** Unfortunately, you can't eat gold, and if we are going to survive on this deserted island, we'll need to find some food and water. \n",
    "\n",
    "<img src = \"ArtAssets4/pirateBitingCoin.jpg\" width = 600>\n",
    "<center>You can try, but you'll probably just end up with fewer teeth...<br/>https://www.gettyimages.com/detail/photo/pirate-biting-gold-coin-and-holding-gun-at-high-res-stock-photography/200530871-003</center>\n",
    "\n",
    "We've already imported our island into the code. Can you search the island's tuple *items* for \"Food\" and \"Water\"? When you find them, add them to your inventory. *Hint:* You'll need to use an `if :` statement as well."
   ]
  },
  {
   "cell_type": "code",
   "execution_count": null,
   "metadata": {},
   "outputs": [],
   "source": []
  },
  {
   "cell_type": "markdown",
   "metadata": {},
   "source": [
    "### You choose the number\n",
    "\n",
    "You can also set the number of times a for loop executes, too. Now that we've found some food, we should probably think about constructing a shelter. Luckilly, there are plenty of logs we can use: `[]`. A shelter roof about 10 logs across should do it. I can construct it using a `for :` loop. "
   ]
  },
  {
   "cell_type": "code",
   "execution_count": null,
   "metadata": {},
   "outputs": [],
   "source": []
  },
  {
   "cell_type": "markdown",
   "metadata": {},
   "source": [
    "**Task:** Great, we've constructed the roof of our structure, can you construct the rest? Put the roof on legs, and make it as high as it is tall. The output should look similar to this:\n",
    "\n",
    "`[] [] [] [] [] [] [] [] [] []`<br/>\n",
    "`[]                         []`<br/>\n",
    "`[]                         []`<br/>\n",
    "`[]                         []`<br/>\n",
    "`[]                         []`<br/>\n",
    "`[]                         []`<br/>\n",
    "`[]                         []`<br/>\n",
    "`[]                         []`<br/>\n",
    "`[]                         []`<br/>\n",
    "`[]                         []`<br/>\n",
    "*Hint:* An `if :` statement in your loop may be helpful"
   ]
  },
  {
   "cell_type": "code",
   "execution_count": 3,
   "metadata": {},
   "outputs": [],
   "source": [
    "#Construct your shelter here"
   ]
  },
  {
   "cell_type": "markdown",
   "metadata": {},
   "source": [
    "Once you're done, compare your code with your neighbors. Did you construct your shelters the same answer?\n",
    "\n",
    "If not, take a moment to figure out what they did and why it also works. Part of coding is being creative to solve problems you otherwise didn't know how to solve. I encourage you to explore ways around complex problems using the limited tools you currently have. You'd be surprised how much you can actually do with them.\n",
    "\n",
    "### more on ranges\n",
    "\n",
    "You can also make the range start or end anywhere, or count change by a specific number. To do this, we use `range(start,finish,increment)`. Here's an example, building a stair case:"
   ]
  },
  {
   "cell_type": "code",
   "execution_count": null,
   "metadata": {},
   "outputs": [],
   "source": []
  },
  {
   "cell_type": "markdown",
   "metadata": {},
   "source": [
    "This time I used a loop within a loop, just like we used ifs within ifs in Lesson 3. Let's take a minute to break down exactly what happened. I'm going to repeat the staircase, but instead label my logs by thier 'slot' and 'height' as a coordinate [slot,height]"
   ]
  },
  {
   "cell_type": "code",
   "execution_count": null,
   "metadata": {},
   "outputs": [],
   "source": []
  },
  {
   "cell_type": "markdown",
   "metadata": {},
   "source": [
    "Can you figure out what is going on in these nested loops? Write some notes here before we discuss them."
   ]
  },
  {
   "cell_type": "markdown",
   "metadata": {},
   "source": [
    "**Task:** Let's try something a little more complicated. Can you make a lattice of logs, perhaps to make a wall for our shelter? The output should look like this:\n",
    "\n",
    "`[]    []    []    []    []\n",
    "   []    []    []    []    []\n",
    "[]    []    []    []    []\n",
    "   []    []    []    []    []\n",
    "[]    []    []    []    []\n",
    "   []    []    []    []    []\n",
    "[]    []    []    []    []\n",
    "   []    []    []    []    []\n",
    "[]    []    []    []    []\n",
    "   []    []    []    []    []`"
   ]
  },
  {
   "cell_type": "code",
   "execution_count": 4,
   "metadata": {},
   "outputs": [],
   "source": [
    "#Write your lattice code here"
   ]
  },
  {
   "cell_type": "markdown",
   "metadata": {},
   "source": [
    "## The *while* loop\n",
    "\n",
    "The `for :` loop lets us complete a set number of operations, and while this is useful, sometimes you want to continue doing something until a condition is met, like play a game until you quit. For this, we use the `while():` loop. It loops through the code as long as the condition in the parenthesis is `True`. Once the condition is `False`, it exits the loop.\n",
    "\n",
    "Let me show you an example. We'll explore our Deserted Island as long as we are Alive:"
   ]
  },
  {
   "cell_type": "code",
   "execution_count": null,
   "metadata": {},
   "outputs": [],
   "source": []
  },
  {
   "cell_type": "markdown",
   "metadata": {},
   "source": [
    "**else and while**\n",
    "\n",
    "Just like the `if :` statement in Lesson 3, the `while():` loop is a conditional statement. Thus, you can use `else:` statement with a `while():` loop, just like you used it in the `if :` statement.\n",
    "\n",
    "For our code above, the `else:` statement could be used to check if we are dead upon arrival to our deserted island:"
   ]
  },
  {
   "cell_type": "code",
   "execution_count": null,
   "metadata": {},
   "outputs": [],
   "source": []
  },
  {
   "cell_type": "markdown",
   "metadata": {},
   "source": [
    "## *break* and *continue*\n",
    "\n",
    "There's a pair of keywords that coincide with loops. These are `break` and `continue`.\n",
    "\n",
    "`break` allows us to exit a loop prematurely. It is like a forced quit. This is usually used in conjunction with an `if :` statement. For example, we couldn't exit our code in our deserted island as long as we were marooned there. As the developers, it would be useful to add a command to allow us to stop early:"
   ]
  },
  {
   "cell_type": "code",
   "execution_count": null,
   "metadata": {},
   "outputs": [],
   "source": []
  },
  {
   "cell_type": "markdown",
   "metadata": {},
   "source": [
    "Similarly, the `continue` statement skips any code below it and goes back to the top. I'll show you an example of this using the staircase we constructed earlier:"
   ]
  },
  {
   "cell_type": "code",
   "execution_count": null,
   "metadata": {},
   "outputs": [],
   "source": []
  },
  {
   "cell_type": "markdown",
   "metadata": {},
   "source": [
    "What part about this code is different from my earlier staircase code? Why did they give the same output.\n",
    "\n",
    "I've said it before and I'll say it again, there isn't just one solution to each coding problem. Understanding the many different ways to solve problems will make you a better coder.\n",
    "\n",
    "# Arrays\n",
    "\n",
    "Now that we've got a handle on loops, I want to introduce a new variable type, or perhaps more accurately named data type, called an *Array*.\n",
    "\n",
    "And array, by definition, is an ordered series or arrangement. You already know the simplest form of an array, a 1-dimensional array, called a *list*. Arrays can have as many dimensions as we want, but for simplicity sake we're just going to extend them to 2-dimensions today. Here's a diagram to help demonstrate this concept:\n",
    "\n",
    "<img src = \"ArtAssets4/arraysExplained.png\" width = 800>\n",
    "\n",
    "In python, there is no built in type for a 2-dimensional array. Instead, we quite literally use a list of lists. This is demonstrated in the picture above.\n",
    "\n",
    "### Indexing\n",
    "\n",
    "Just like with lists, pieces of arrays are accessed through their indices. However, each location in a 2-dimensional array now requires 2 indices to access, rather than one. The first index points to the list within our array list, and the second index points to the location within our list.\n",
    "\n",
    "Confused, me too. Words do not do a great job explaining what's going on, so its best to show you. Let's construct an array containing geography of our deserted island. Let's imagine our island is a 4x4 square, and all the outside edges are \"Beach\" and all of the inside parts \"Jungle\":\n",
    "\n",
    "<img src = \"ArtAssets4/squareIsland.png\">\n",
    "<center>A real tropical paradise! Now in 8-bit</center>"
   ]
  },
  {
   "cell_type": "code",
   "execution_count": null,
   "metadata": {},
   "outputs": [],
   "source": []
  },
  {
   "cell_type": "markdown",
   "metadata": {},
   "source": [
    "Now, let's say we want to acces the top right jungle square of our island:\n",
    "\n",
    "<img src = \"ArtAssets4/jungleTile.png\">\n",
    "\n",
    "How would we do that? What kind of indexing would we need to print what's in that location? Remember, in code we start counting at 0!"
   ]
  },
  {
   "cell_type": "code",
   "execution_count": null,
   "metadata": {},
   "outputs": [],
   "source": []
  },
  {
   "cell_type": "markdown",
   "metadata": {},
   "source": [
    "**Task:** With our understanding of loops, can you make a loop to print out each member of `islandArray`, and tell the user it's index?"
   ]
  },
  {
   "cell_type": "code",
   "execution_count": null,
   "metadata": {},
   "outputs": [],
   "source": []
  },
  {
   "cell_type": "markdown",
   "metadata": {},
   "source": [
    "Now this code above is very, VERY clunky... That is because Python has no built in type *array*. I have forced a 2-dimensional array here by creating a list of lists. Iterating through this is very awkward.\n",
    "\n",
    "Instead, it is better practice to create your internal lists first, and then store them in another list. Here's what I mean:"
   ]
  },
  {
   "cell_type": "code",
   "execution_count": null,
   "metadata": {},
   "outputs": [],
   "source": []
  },
  {
   "cell_type": "markdown",
   "metadata": {},
   "source": [
    "Now iterating syntax is easier, because we have variables inside our islandArray rather than lists.\n",
    "\n",
    "I will also introduce a way to track your index in a for loop, without making a length counter like above. This uses the `enumerate()` function built in to Python. I won't explain it in details, but I'll show its use here. If you'd like to learn more about it, consult the Python documentation (built-in functions) linked at the bottom:"
   ]
  },
  {
   "cell_type": "code",
   "execution_count": null,
   "metadata": {},
   "outputs": [],
   "source": []
  },
  {
   "cell_type": "markdown",
   "metadata": {},
   "source": [
    "`enumerate()` allowed me to track the index and the items in my list at the same time, making my code much simpler. It stored the index of my list in the first argument of my loop (`index1` and `index2`), while it stored what was in my list in the second argument (`horizontal` and `geography`).\n",
    "\n",
    "### Arrays Are a Concept\n",
    "\n",
    "Now you might be thinking, \"There's ocean, beach, and jungle on your outside edges, why'd you call them beach?\" That is because arrays are largely conceptual, and a convenient way to think about our information. We can easilly extend arrays to 3-dimension, perhaps representing physical space, or even 4-dimensions and beyond representing whatever you need. These are more mathematically advanced concepts than I want to discuss in this class, so we'll stick with 2-dimensions for now.\n",
    "\n",
    "So let's improve upon our island map:\n",
    "\n",
    "<img src = \"ArtAssets4/smallTileIsland.png\">\n",
    "\n",
    "Now our island has 64 squares, instead of 16, allowing for a much better description of what is where on our island.\n",
    "\n",
    "**Task:** Make a new array storing the locations on our island like before using the 64 square picture above. You might want to use loops to make your job easier."
   ]
  },
  {
   "cell_type": "code",
   "execution_count": 5,
   "metadata": {},
   "outputs": [],
   "source": [
    "#Create your islandArray here"
   ]
  },
  {
   "cell_type": "markdown",
   "metadata": {},
   "source": [
    "# Helpful Links\n",
    "\n",
    "[Link to built in Python Functions](https://docs.python.org/3/library/functions.html \"Built-in Functions\")<br/>\n",
    "[Link to more data structure methods and explanations](https://docs.python.org/3/tutorial/datastructures.html \"Python Datastructures\")<br/>\n",
    "[Link to a great article about analyzing games](https://gamedesignconcepts.wordpress.com/2009/07/06/level-3-formal-elements-of-games/ \"Game Analysis Help\")<br/>\n",
    "[The Game Analysis Form](https://docs.google.com/document/d/1orjKWorOqr6JKB45zACrEcz6HZRPcJCLNJX3vr9_WUU/edit?usp=sharing \"Its also available on our drive\")<br/>"
   ]
  }
 ],
 "metadata": {
  "kernelspec": {
   "display_name": "Python 3",
   "language": "python",
   "name": "python3"
  },
  "language_info": {
   "codemirror_mode": {
    "name": "ipython",
    "version": 3
   },
   "file_extension": ".py",
   "mimetype": "text/x-python",
   "name": "python",
   "nbconvert_exporter": "python",
   "pygments_lexer": "ipython3",
   "version": "3.6.5"
  }
 },
 "nbformat": 4,
 "nbformat_minor": 2
}
