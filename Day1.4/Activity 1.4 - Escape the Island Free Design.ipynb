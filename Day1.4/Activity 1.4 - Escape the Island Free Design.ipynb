{
 "cells": [
  {
   "cell_type": "markdown",
   "metadata": {},
   "source": [
    "# Activity 1.4 - Escape the Island Free Design\n",
    "\n",
    "This morning we learned all about Classes and Methods, and used them to build a very crude *Escape the Island* adventure game. I'm sure you have tons of ideas about how to make the game better, so this afternoon is your chance to add whatever you want! Here's a few ideas to get you started:\n",
    "\n",
    "1. Improve the map: The Island Grid has 16 spaces. You could design 16 unique tiles for each of those spaces. Don't forget to include new dangers!\n",
    "2. Improved encounters: Maybe you want the game to be more interesting than static encounters. Perhaps you can make an Encounter class, that let's you do things in encounters like fight, flee, or explore (these sound like methods for the encounter)\n",
    "3. Improved items: Maybe certain items help you survive the island. Maybe if you find a specific combination of items you win the game and escape the island?\n",
    "4. Improved world: Add a story to the island that you discover as you explore. Perhaps you could include a 'survivor's journal' that you could copy this story into as you find it.\n",
    "\n",
    "If you come up with any other ideas on your own, feel free to implement them! In fact, we could even combine everyone's ideas together at the end to make an awesome game with all of these features.\n",
    "\n",
    "## We need a game controller...\n",
    "\n",
    "In order for this to work, we will need a loop to play our game. I've included a loop here that should work with the solution from the lesson this morning. We'll need to use our classes from the morning lesson, so I've pasted them here, too.\n",
    "\n",
    "### Classes and Tiles from the morning lesson. Copy/paste these below to make your own changes"
   ]
  },
  {
   "cell_type": "code",
   "execution_count": 1,
   "metadata": {},
   "outputs": [],
   "source": [
    "from IPython.display import clear_output\n",
    "import numpy as np\n",
    "\n",
    "class IslandTile:\n",
    "    \n",
    "    def __init__(self, name, items, encounters, description):\n",
    "        self.name = name\n",
    "        self.items = items\n",
    "        self.encounters = encounters\n",
    "        self.description = description\n",
    "        #Now variables that have default values\n",
    "        self.discovered = False\n",
    "        self.lootedItems = []     #By keeping track of these, we make\n",
    "        self.pastEncounters = []  #sure we don't find the same thing twice\n",
    "        \n",
    "    def enterTile(self):\n",
    "        #Your code here\n",
    "        if self.discovered:\n",
    "            print(\"You enter the \"+self.name)\n",
    "        else:\n",
    "            print(self.description)\n",
    "            self.discovered = True\n",
    "            \n",
    "    def leaveTile(self):\n",
    "        #Your code here\n",
    "        print(\"After a long day of searching, you leave \"+self.name+\" and head back to camp\")\n",
    "    \n",
    "    def search(self):\n",
    "        #your code here\n",
    "        try:\n",
    "            encounter = self.encounters[np.random.randint(len(self.encounters))]\n",
    "            loot = self.items[np.random.randint(len(self.items))]\n",
    "        except:\n",
    "            print(\"The items you've collected on the island are strewn about your camp\")\n",
    "        else:\n",
    "            if encounter == \"Crocodile\":\n",
    "                loot = \"dead\"\n",
    "                print(\"You are eaten by a Crocodile\")\n",
    "            elif encounter == \"Crumbling Cliffs\":\n",
    "                loot = \"dead\"\n",
    "                print(\"The cliffs below you crumble and you fall to your death\")\n",
    "            elif encounter in self.pastEncounters:\n",
    "                print(\"Your search yields nothing...\")\n",
    "            else:\n",
    "                self.pastEncounters.append(encounter)\n",
    "                if loot in self.lootedItems:\n",
    "                    print(\"You encounter \"+encounter+\" but find nothing\")\n",
    "                else:\n",
    "                    print(\"You encounter \"+encounter+\" and find \"+loot)\n",
    "                    self.lootedItems.append(loot)\n",
    "            return loot"
   ]
  },
  {
   "cell_type": "code",
   "execution_count": 2,
   "metadata": {},
   "outputs": [],
   "source": [
    "#Make your IslandTiles here\n",
    "#Mr. McGoffin's tiles\n",
    "temple = IslandTile(\"the Temple\", (\"Golden Monkey Statuette\",) , (\"Boulder Trap\",), \"As you push your way through the thick vegetation, you stumble upon an ancient Temple standing stalwart in a small clearing. The area around the temple seems quiet. Too quiet...\")\n",
    "spring = IslandTile(\"the Spring\", (\"Water\", \"Water\", \"Water\", \"Food\"), (\"Crocodile\", \"Nothing\", \"Despair\", \"a small deer\"),\"The soft gurgle of water leads you up a small bluff to reveal a small spring, its waters bubbling out of the rocks.\")\n",
    "beach = IslandTile(\"the Beach\", (\"Sand\", \"More Sand\", \"Even More Sand\"), (\"Birds\", \"Crabs\", \"A Dead Fish\", \"A message in a bottle\", \"a beat up Practice Dummy\"), \"You emerge from the jungle onto the beach. 'If I weren't stuck here, this beach would be a beautiful place,' you think to yourself bitterly.\")\n",
    "ravine = IslandTile(\"the Ravine\", (\"the number 42\",),(\"Crumbling Cliffs\", \"Scenic views\", \"A fallen tree\",\"The meaning of life, the universe, and everything\"), \"There is barely any warning as you emerge from the jungle and find yourself facing a massive ravine. You look precariously over the edge, but it is so deep you cannot see the bottom\")\n",
    "camp = IslandTile(\"your campsite\",(),(),\"You are back at your meager camp\")"
   ]
  },
  {
   "cell_type": "markdown",
   "metadata": {},
   "source": [
    "### The controller to play the game"
   ]
  },
  {
   "cell_type": "code",
   "execution_count": 3,
   "metadata": {},
   "outputs": [
    {
     "name": "stdout",
     "output_type": "stream",
     "text": [
      "I didn't understand. Maybe you've been stuck on this Island for too long...\n",
      "Days on the deserted island: 7\n",
      "Where would you like to search today? (temple, spring, beach, ravine, camp): spring\n",
      "You enter the the Spring\n",
      "You are eaten by a Crocodile\n",
      "Game over. You survived for 7 days.\n"
     ]
    }
   ],
   "source": [
    "import desertedIsland\n",
    "import numpy as np\n",
    "from IPython.display import clear_output\n",
    "\n",
    "alive = True\n",
    "days = 0\n",
    "inventory = []\n",
    "\n",
    "#I've used a dictionary here to access the classes above by their names. This is common in game design structures\n",
    "islandArray = {\"temple\": temple, \n",
    "               \"spring\": spring, \n",
    "               \"beach\": beach, \n",
    "               \"ravine\": ravine, \n",
    "               \"camp\": camp}\n",
    "\n",
    "while(alive):\n",
    "    if days == 0:\n",
    "        print(\"You have washed up on a Deserted Island! You must search the island for Food and Water to survive until rescue...\")\n",
    "    print(\"Days on the deserted island: \"+str(days))\n",
    "    \n",
    "    #Our code to search the Island goes here\n",
    "    tile = islandArray[input(\"Where would you like to search today? (temple, spring, beach, ravine, camp): \")]\n",
    "    tile.enterTile()\n",
    "    loot = tile.search()\n",
    "    \n",
    "    if loot == \"dead\":\n",
    "        alive = False\n",
    "        continue\n",
    "    elif loot != None:\n",
    "        inventory.append(loot)\n",
    "        tile.leaveTile()\n",
    "        \n",
    "    #This is the start of our player input section. We'll modify this code to make the gameplay fun.\n",
    "    decision = input(\"Keep searching the Deserted Island? (Y/N) \")\n",
    "    clear_output()\n",
    "    if decision == 'quit':\n",
    "        break\n",
    "    elif decision == 'Y':\n",
    "        print(\"Good choice, maybe you'll survive another day.\")\n",
    "    elif decision == 'N':\n",
    "        print(\"Too bad! You're stuck here... Gotta keep searching.\")\n",
    "    else:\n",
    "        print(\"I didn't understand. Maybe you've been stuck on this Island for too long...\")\n",
    "    days += 1\n",
    "else:\n",
    "    print(\"Game over. You survived for \"+str(days)+\" days.\")"
   ]
  },
  {
   "cell_type": "markdown",
   "metadata": {},
   "source": [
    "### Copy/Paste the class and tiles from above to change them here. You can add any other classes you want as well"
   ]
  },
  {
   "cell_type": "code",
   "execution_count": null,
   "metadata": {},
   "outputs": [],
   "source": []
  }
 ],
 "metadata": {
  "kernelspec": {
   "display_name": "Python 3",
   "language": "python",
   "name": "python3"
  },
  "language_info": {
   "codemirror_mode": {
    "name": "ipython",
    "version": 3
   },
   "file_extension": ".py",
   "mimetype": "text/x-python",
   "name": "python",
   "nbconvert_exporter": "python",
   "pygments_lexer": "ipython3",
   "version": "3.7.3"
  }
 },
 "nbformat": 4,
 "nbformat_minor": 2
}
